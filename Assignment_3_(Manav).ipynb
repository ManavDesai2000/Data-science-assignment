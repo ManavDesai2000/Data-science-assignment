{
  "cells": [
    {
      "cell_type": "markdown",
      "metadata": {
        "id": "6XZ5_Oi4Gv3c"
      },
      "source": [
        "# Assignment 3\n",
        "## Module submission header\n",
        "### Submission preparation instructions\n",
        "Please provide the names and Drexel email addresses of all group members. If applicable, provide notes on any tutoring support received toward the completion of this submission.\n",
        "\n",
        "### Module submission group\n",
        "- Group member 1: Manav Desai (md3834@drexel.edu)\n",
        "\n",
        "\n"
      ]
    },
    {
      "cell_type": "markdown",
      "metadata": {
        "id": "GcKnZ7AoGv3e"
      },
      "source": [
        "# Part 1 (20 points)\n",
        "For this problem, you will be working with [flight data from the Bureau of Transportaion Statistics](http://stat-computing.org/dataexpo/2009/the-data.html). The full dataset is too large for prototyping, so two truncated files are provided as `'data/2007-005.csv'` and `'data/2008-005.csv'`."
      ]
    },
    {
      "cell_type": "markdown",
      "metadata": {
        "id": "qKwfLQV5tjpv"
      },
      "source": [
        "__1a.__ (4 points) Create a function called `read_data` that takes a file path to a dataset such as `'data/2007-005.csv'` as input, loads the dataset into a `pandas` dataframe, and drops any rows with a null in the \"Year\", \"Month\", \"DayofMonth\", \"DepTime\", \"Origin\", and \"Dest\" column. Test the function on `'data/2007-005.csv'`, print the shape of the dataframe, and print and examine the first five rows of the dataframe."
      ]
    },
    {
      "cell_type": "code",
      "execution_count": 5,
      "metadata": {
        "colab": {
          "base_uri": "https://localhost:8080/"
        },
        "id": "m6IsR4GiGv3f",
        "outputId": "d6c1da5b-136d-4153-9a4d-3192e99aaddc"
      },
      "outputs": [
        {
          "output_type": "stream",
          "name": "stdout",
          "text": [
            "Shape of the dataframe: (36524, 29)\n",
            "First five rows of the dataframe:\n",
            "   Year  Month  DayofMonth  DayOfWeek  DepTime  CRSDepTime  ArrTime  \\\n",
            "0  2007      1           2          2   1121.0        1120   1218.0   \n",
            "1  2007      1           2          2   1647.0        1640   1754.0   \n",
            "2  2007      1           2          2    950.0         950   1046.0   \n",
            "3  2007      1           2          2   1520.0        1520   1626.0   \n",
            "4  2007      1           2          2   1046.0        1035   1058.0   \n",
            "\n",
            "   CRSArrTime UniqueCarrier  FlightNum  ... TaxiIn  TaxiOut  Cancelled  \\\n",
            "0        1240            WN       1482  ...      7       10          0   \n",
            "1        1750            WN       1663  ...      4        9          0   \n",
            "2        1050            WN        389  ...      3        8          0   \n",
            "3        1645            WN       1781  ...      2        5          0   \n",
            "4        1050            WN       1073  ...      2       13          0   \n",
            "\n",
            "   CancellationCode  Diverted  CarrierDelay WeatherDelay NASDelay  \\\n",
            "0               NaN         0             0            0        0   \n",
            "1               NaN         0             0            0        0   \n",
            "2               NaN         0             0            0        0   \n",
            "3               NaN         0             0            0        0   \n",
            "4               NaN         0             0            0        0   \n",
            "\n",
            "   SecurityDelay  LateAircraftDelay  \n",
            "0              0                  0  \n",
            "1              0                  0  \n",
            "2              0                  0  \n",
            "3              0                  0  \n",
            "4              0                  0  \n",
            "\n",
            "[5 rows x 29 columns]\n"
          ]
        }
      ],
      "source": [
        "import pandas as pd\n",
        "\n",
        "def read_data(filename):\n",
        "    # Load the dataset into a pandas dataframe\n",
        "    df = pd.read_csv(filename)\n",
        "\n",
        "    # Drop rows with any nulls in specified columns\n",
        "    df = df.dropna(subset=['Year', 'Month', 'DayofMonth', 'DepTime', 'Origin', 'Dest'])\n",
        "\n",
        "    return df\n",
        "\n",
        "# Path to the data file\n",
        "file_path = \"./data/2007-005.csv\"\n",
        "\n",
        "# Use the function to read data\n",
        "flight_data = read_data(file_path)\n",
        "\n",
        "# Print the shape of the dataframe\n",
        "print(\"Shape of the dataframe:\", flight_data.shape)\n",
        "\n",
        "# Print and examine the first five rows of the dataframe\n",
        "print(\"First five rows of the dataframe:\")\n",
        "print(flight_data.head())\n"
      ]
    },
    {
      "cell_type": "markdown",
      "metadata": {
        "id": "EAwFSMn5Gv3h"
      },
      "source": [
        "__1b.__ (4 points) Update `read_data` such that it creates a new column called `\"DepartureDate\"` that contains a `datetime` object combining the departure month, day, and year of each flight. Test the function on `'data/2007-005.csv'`, and examine the first five rows of the dataframe."
      ]
    },
    {
      "cell_type": "code",
      "execution_count": 7,
      "metadata": {
        "colab": {
          "base_uri": "https://localhost:8080/"
        },
        "id": "33rFDsckGv3i",
        "outputId": "338059cb-fba5-4560-f003-0047033bc85f"
      },
      "outputs": [
        {
          "output_type": "stream",
          "name": "stdout",
          "text": [
            "First five rows of the dataframe:\n",
            "   Year  Month  DayofMonth  DayOfWeek  DepTime  CRSDepTime  ArrTime  \\\n",
            "0  2007      1           2          2   1121.0        1120   1218.0   \n",
            "1  2007      1           2          2   1647.0        1640   1754.0   \n",
            "2  2007      1           2          2    950.0         950   1046.0   \n",
            "3  2007      1           2          2   1520.0        1520   1626.0   \n",
            "4  2007      1           2          2   1046.0        1035   1058.0   \n",
            "\n",
            "   CRSArrTime UniqueCarrier  FlightNum  ... TaxiOut  Cancelled  \\\n",
            "0        1240            WN       1482  ...      10          0   \n",
            "1        1750            WN       1663  ...       9          0   \n",
            "2        1050            WN        389  ...       8          0   \n",
            "3        1645            WN       1781  ...       5          0   \n",
            "4        1050            WN       1073  ...      13          0   \n",
            "\n",
            "   CancellationCode  Diverted  CarrierDelay  WeatherDelay NASDelay  \\\n",
            "0               NaN         0             0             0        0   \n",
            "1               NaN         0             0             0        0   \n",
            "2               NaN         0             0             0        0   \n",
            "3               NaN         0             0             0        0   \n",
            "4               NaN         0             0             0        0   \n",
            "\n",
            "  SecurityDelay  LateAircraftDelay  DepartureDate  \n",
            "0             0                  0     2007-01-02  \n",
            "1             0                  0     2007-01-02  \n",
            "2             0                  0     2007-01-02  \n",
            "3             0                  0     2007-01-02  \n",
            "4             0                  0     2007-01-02  \n",
            "\n",
            "[5 rows x 30 columns]\n"
          ]
        }
      ],
      "source": [
        "from datetime import datetime, timedelta\n",
        "import pandas as pd\n",
        "\n",
        "def read_data(filename):\n",
        "    # Load the dataset into a pandas dataframe\n",
        "    df = pd.read_csv(filename)\n",
        "\n",
        "    # Drop rows with any nulls in specified columns\n",
        "    df = df.dropna(subset=['Year', 'Month', 'DayofMonth', 'DepTime', 'Origin', 'Dest'])\n",
        "\n",
        "    # Create a new column 'DepartureDate' combining year, month, and day into a datetime object\n",
        "    df['DepartureDate'] = pd.to_datetime({\n",
        "        'year': df['Year'],\n",
        "        'month': df['Month'],\n",
        "        'day': df['DayofMonth']\n",
        "    })\n",
        "\n",
        "    return df\n",
        "\n",
        "# Path to the data file\n",
        "file_path = \"./data/2007-005.csv\"\n",
        "\n",
        "# Use the function to read data\n",
        "try:\n",
        "    flight_data = read_data(file_path)\n",
        "    # Print and examine the first five rows of the dataframe\n",
        "    print(\"First five rows of the dataframe:\")\n",
        "    print(flight_data.head())\n",
        "except ValueError as e:\n",
        "    print(\"Error:\", e)\n",
        "\n"
      ]
    },
    {
      "cell_type": "markdown",
      "metadata": {
        "id": "F_T7K3MGGv3j"
      },
      "source": [
        "__1c.__ (4 points) Complete the updated function that must also takes an airport code as an input argument. This should then return a dataframe of flights originating from that airport that occurred in the specified year. Test the function on `'data/2007-005.csv'`, print the shape of the dataframe, and print and examine the first five rows of the dataframe."
      ]
    },
    {
      "cell_type": "code",
      "execution_count": 8,
      "metadata": {
        "colab": {
          "base_uri": "https://localhost:8080/"
        },
        "id": "zld-cOdBGv3j",
        "outputId": "a5883cf9-24a4-4be3-a6ba-0747eaa29cf9"
      },
      "outputs": [
        {
          "output_type": "stream",
          "name": "stdout",
          "text": [
            "Shape of the dataframe: (528, 30)\n",
            "First five rows of the dataframe:\n",
            "     Year  Month  DayofMonth  DayOfWeek  DepTime  CRSDepTime  ArrTime  \\\n",
            "27   2007      1           3          3   1730.0        1725   2002.0   \n",
            "74   2007      1           6          6    641.0         645    905.0   \n",
            "75   2007      1           6          6   1107.0        1055   1215.0   \n",
            "139  2007      1          10          3   1447.0        1445   1558.0   \n",
            "140  2007      1          10          3   1949.0        1955   2046.0   \n",
            "\n",
            "     CRSArrTime UniqueCarrier  FlightNum  ... TaxiOut  Cancelled  \\\n",
            "27         2025            WN       1870  ...      11          0   \n",
            "74         1000            WN       2492  ...      10          0   \n",
            "75         1210            WN       2600  ...      11          0   \n",
            "139        1610            WN       2029  ...      10          0   \n",
            "140        2110            WN       1884  ...      13          0   \n",
            "\n",
            "     CancellationCode  Diverted  CarrierDelay  WeatherDelay NASDelay  \\\n",
            "27                NaN         0             0             0        0   \n",
            "74                NaN         0             0             0        0   \n",
            "75                NaN         0             0             0        0   \n",
            "139               NaN         0             0             0        0   \n",
            "140               NaN         0             0             0        0   \n",
            "\n",
            "    SecurityDelay  LateAircraftDelay  DepartureDate  \n",
            "27              0                  0     2007-01-03  \n",
            "74              0                  0     2007-01-06  \n",
            "75              0                  0     2007-01-06  \n",
            "139             0                  0     2007-01-10  \n",
            "140             0                  0     2007-01-10  \n",
            "\n",
            "[5 rows x 30 columns]\n"
          ]
        }
      ],
      "source": [
        "import pandas as pd\n",
        "\n",
        "def read_data(filename, airport):\n",
        "    # Load the dataset into a pandas dataframe\n",
        "    df = pd.read_csv(filename)\n",
        "\n",
        "    # Drop rows with any nulls in the specified columns\n",
        "    df = df.dropna(subset=['Year', 'Month', 'DayofMonth', 'DepTime', 'Origin', 'Dest'])\n",
        "\n",
        "    # Create a new column 'DepartureDate' combining year, month, and day into a datetime object\n",
        "    df['DepartureDate'] = pd.to_datetime({\n",
        "        'year': df['Year'],\n",
        "        'month': df['Month'],\n",
        "        'day': df['DayofMonth']\n",
        "    })\n",
        "\n",
        "    # Filter the dataframe for flights originating from the specified airport\n",
        "    df = df[df['Origin'] == airport]\n",
        "\n",
        "    return df\n",
        "\n",
        "# Path to the data file\n",
        "file_path = \"./data/2007-005.csv\"\n",
        "\n",
        "# Use the function to read data for flights originating from PHL\n",
        "flight_data = read_data(file_path, \"PHL\")\n",
        "\n",
        "# Print the shape of the dataframe\n",
        "print(\"Shape of the dataframe:\", flight_data.shape)\n",
        "\n",
        "# Print and examine the first five rows of the dataframe\n",
        "print(\"First five rows of the dataframe:\")\n",
        "print(flight_data.head())\n"
      ]
    },
    {
      "cell_type": "markdown",
      "metadata": {
        "id": "hdclf2lDGv3k"
      },
      "source": [
        "__1d.__ (4 points) Use the `read_data` function to create dataframes containing the flight data for Philadelphia International Airport (PHL) for 2007 and 2008. Use the `.groupby()` method to determine the busiest month of the year for both years. Print the busiest month for each year and the number of flights for those months."
      ]
    },
    {
      "cell_type": "code",
      "execution_count": 10,
      "metadata": {
        "colab": {
          "base_uri": "https://localhost:8080/"
        },
        "id": "eUnU5Nk-Gv3k",
        "outputId": "ceb111cb-79e8-4451-e1a9-1a0a46547bf7"
      },
      "outputs": [
        {
          "output_type": "stream",
          "name": "stdout",
          "text": [
            "The busiest month in 2007 for PHL was: 10 with 55 flights\n",
            "The busiest month in 2008 for PHL was: 6 with 49 flights\n"
          ]
        }
      ],
      "source": [
        "import pandas as pd\n",
        "\n",
        "def read_data(filename, airport, year):\n",
        "    # Load the dataset into a pandas dataframe\n",
        "    df = pd.read_csv(filename)\n",
        "\n",
        "    # Drop rows with any nulls in the specified columns\n",
        "    df = df.dropna(subset=['Year', 'Month', 'DayofMonth', 'DepTime', 'Origin', 'Dest'])\n",
        "\n",
        "    # Create a new column 'DepartureDate' combining year, month, and day into a datetime object\n",
        "    df['DepartureDate'] = pd.to_datetime({\n",
        "        'year': df['Year'],\n",
        "        'month': df['Month'],\n",
        "        'day': df['DayofMonth']\n",
        "    })\n",
        "\n",
        "    # Filter the dataframe for flights originating from the specified airport and in the specified year\n",
        "    df = df[(df['Origin'] == airport) & (df['Year'] == year)]\n",
        "\n",
        "    return df\n",
        "\n",
        "# Assuming files are named in a way that includes the year for clarity\n",
        "file_path_2007 = \"./data/2007-005.csv\"\n",
        "file_path_2008 = \"./data/2008-005.csv\"\n",
        "\n",
        "# Load data for PHL for the years 2007 and 2008\n",
        "phl_data_2007 = read_data(file_path_2007, \"PHL\", 2007)\n",
        "phl_data_2008 = read_data(file_path_2008, \"PHL\", 2008)\n",
        "\n",
        "# Function to find the busiest month\n",
        "def busiest_month(df, year):\n",
        "    # Group by 'Month' and count the number of flights\n",
        "    monthly_flights = df.groupby('Month').size()\n",
        "    busiest_month = monthly_flights.idxmax()\n",
        "    max_flights = monthly_flights.max()\n",
        "    print(f\"The busiest month in {year} for PHL was: {busiest_month} with {max_flights} flights\")\n",
        "\n",
        "# Determine and print the busiest month for each year\n",
        "busiest_month(phl_data_2007, 2007)\n",
        "busiest_month(phl_data_2008, 2008)\n"
      ]
    },
    {
      "cell_type": "markdown",
      "metadata": {
        "id": "U6BxwezGGv3l"
      },
      "source": [
        "__1e.__ (4 points) Update the function to take a list of file names and two triples of the form `(year, month, day)` that represent the `start` and `end` of a date range. The function must return all flights from the specified airport within this date range as a single dataframe. Test the function on `'data/2007-005.csv'` and `'data/2007-005.csv'` with start and end dates of 30 June 2007 and 30 June 2008, respectively, print the shape of the resulting dataframe, and print and examine the first five rows of the dataframe."
      ]
    },
    {
      "cell_type": "code",
      "execution_count": 15,
      "metadata": {
        "colab": {
          "base_uri": "https://localhost:8080/"
        },
        "id": "vsZfJ0v2Gv3l",
        "outputId": "21724657-55e2-4c88-f8e4-6b0ee68a17b9"
      },
      "outputs": [
        {
          "output_type": "stream",
          "name": "stdout",
          "text": [
            "Shape of the resulting dataframe: (524, 30)\n",
            "First five rows of the dataframe:\n",
            "     Year  Month  DayofMonth  DayOfWeek  DepTime  CRSDepTime  ArrTime  \\\n",
            "261  2007      7           3          2    957.0        1000   1116.0   \n",
            "262  2007      7           5          4   1033.0        1030   1313.0   \n",
            "263  2007      7           5          4    951.0         950   1207.0   \n",
            "264  2007      7           6          5   1341.0        1330   1602.0   \n",
            "265  2007      7           9          1    923.0         925   1146.0   \n",
            "\n",
            "     CRSArrTime UniqueCarrier  FlightNum  ... TaxiOut  Cancelled  \\\n",
            "261        1135            WN        660  ...    24.0          0   \n",
            "262        1320            WN       2007  ...    32.0          0   \n",
            "263        1215            WN       2906  ...    27.0          0   \n",
            "264        1605            WN       2267  ...    16.0          0   \n",
            "265        1220            WN        472  ...    10.0          0   \n",
            "\n",
            "     CancellationCode  Diverted  CarrierDelay  WeatherDelay NASDelay  \\\n",
            "261               NaN         0           0.0           0.0      0.0   \n",
            "262               NaN         0           0.0           0.0      0.0   \n",
            "263               NaN         0           0.0           0.0      0.0   \n",
            "264               NaN         0           0.0           0.0      0.0   \n",
            "265               NaN         0           0.0           0.0      0.0   \n",
            "\n",
            "    SecurityDelay  LateAircraftDelay  DepartureDate  \n",
            "261           0.0                0.0     2007-07-03  \n",
            "262           0.0                0.0     2007-07-05  \n",
            "263           0.0                0.0     2007-07-05  \n",
            "264           0.0                0.0     2007-07-06  \n",
            "265           0.0                0.0     2007-07-09  \n",
            "\n",
            "[5 rows x 30 columns]\n"
          ]
        }
      ],
      "source": [
        "import pandas as pd\n",
        "\n",
        "def read_data(filenames, airport, start, end):\n",
        "    # Convert start and end date tuples to datetime objects\n",
        "    start_date = pd.to_datetime(f\"{start[0]}-{start[1]}-{start[2]}\")\n",
        "    end_date = pd.to_datetime(f\"{end[0]}-{end[1]}-{end[2]}\")\n",
        "\n",
        "    # Initialize an empty list to collect dataframes\n",
        "    dfs = []\n",
        "\n",
        "    # Iterate over each file\n",
        "    for filename in filenames:\n",
        "        # Load the dataset into a pandas dataframe\n",
        "        df = pd.read_csv(filename)\n",
        "\n",
        "        # Drop rows with any nulls in the specified columns\n",
        "        df = df.dropna(subset=['Year', 'Month', 'DayofMonth', 'DepTime', 'Origin', 'Dest'])\n",
        "\n",
        "        # Properly convert columns to datetime and create 'DepartureDate'\n",
        "        df['DepartureDate'] = pd.to_datetime(df['Year'].astype(str) + '-' +\n",
        "                                             df['Month'].astype(str) + '-' +\n",
        "                                             df['DayofMonth'].astype(str))\n",
        "\n",
        "        # Filter the dataframe for flights originating from the specified airport\n",
        "        df = df[df['Origin'] == airport]\n",
        "\n",
        "        # Append the filtered dataframe to the list\n",
        "        dfs.append(df)\n",
        "\n",
        "    # Concatenate all dataframes in the list into a single dataframe\n",
        "    result_df = pd.concat(dfs, ignore_index=True)\n",
        "\n",
        "    # Filter the concatenated dataframe to only include flights within the date range\n",
        "    result_df = result_df[(result_df['DepartureDate'] >= start_date) & (result_df['DepartureDate'] <= end_date)]\n",
        "\n",
        "    return result_df\n",
        "\n",
        "# List of filenames\n",
        "filenames = [\"./data/2007-005.csv\", \"./data/2008-005.csv\"]\n",
        "\n",
        "# Call the function with specified parameters\n",
        "try:\n",
        "    flight_data = read_data(filenames, \"PHL\", (2007, 6, 30), (2008, 6, 30))\n",
        "    # Print the shape of the resulting dataframe\n",
        "    print(\"Shape of the resulting dataframe:\", flight_data.shape)\n",
        "    # Print and examine the first five rows of the dataframe\n",
        "    print(\"First five rows of the dataframe:\")\n",
        "    print(flight_data.head())\n",
        "except Exception as e:\n",
        "    print(\"Error:\", e)\n"
      ]
    },
    {
      "cell_type": "markdown",
      "metadata": {
        "id": "UtltzNF1R5eG"
      },
      "source": [
        "# Part 2 (20 points)\n",
        "\n",
        "In this problem, you will use the [Baseball Databank](http://seanlahman.com/baseball-archive/statistics/); there is also a data dictionary available [here](`../data/baseballdatabank-2017.1/core/readme2014.txt`). The data is in the `data/baseballdatabank2017.1/core/` directory as a collection of tables.\n",
        "\n"
      ]
    },
    {
      "cell_type": "markdown",
      "metadata": {
        "id": "1Qa_5ywiStbz"
      },
      "source": [
        "__2a.__ (4 points) Update the lists of fields below to import the data described below from `./data/baseballdatabank-2017.1/core/readme2014.txt`. Print and examine the first two rows of each dataframe in `baseball_data`.\n",
        "\n",
        "- Batting stats (`Batting.csv`): player ID, year ID, team ID; numbers of games played, at bats, runs, hits, doubles, triples, homeruns, RBIs, strikeouts, and times hit by\n",
        "- Fielding stats (`Fielding.csv`): player ID, year ID, team ID; numbers of games played, opponents put out, assisted outs, and fielding errors\n",
        "- Descriptive information (`Master.csv`): player ID, year ID, team ID; full name, height, and weight\n",
        "- Pitching stats (`Pitching.csv`): player ID, year ID, team ID; numbers of games played, won, and lost; numbers of strikeouts, hits, earned runs, homeruns, and batters hit by pitches   \n",
        "- Salary information (`Salaries.csv`): player ID, year ID, team ID; salary\n",
        "- Teams membership (`Teams.csv`): player ID, year ID, team ID; the name of the team; the year the team was named\n"
      ]
    },
    {
      "cell_type": "code",
      "execution_count": 17,
      "metadata": {
        "colab": {
          "base_uri": "https://localhost:8080/"
        },
        "id": "CeOMdrw6CgCY",
        "outputId": "af7a2613-bc31-4081-9394-876eeec02f18"
      },
      "outputs": [
        {
          "output_type": "stream",
          "name": "stdout",
          "text": [
            "Batting Data:\n",
            "     playerID  yearID teamID   G   AB   R   H  2B  3B  HR   RBI   SO  HBP\n",
            "0  abercda01    1871    TRO   1    4   0   0   0   0   0   0.0  0.0  NaN\n",
            "1   addybo01    1871    RC1  25  118  30  32   6   0   0  13.0  0.0  NaN\n",
            "\n",
            "Fielding Data:\n",
            "     playerID  yearID teamID   G  PO     A     E\n",
            "0  abercda01    1871    TRO   1   1   3.0   2.0\n",
            "1   addybo01    1871    RC1  22  67  72.0  42.0\n",
            "\n",
            "Master Data:\n",
            "     playerID nameFirst nameLast  weight  height\n",
            "0  aardsda01     David  Aardsma   215.0    75.0\n",
            "1  aaronha01      Hank    Aaron   180.0    72.0\n",
            "\n",
            "Pitching Data:\n",
            "     playerID  yearID teamID   W   L   G    H   ER  HR  SO  HBP\n",
            "0  bechtge01    1871    PH1   1   2   3   43   23   0   1  NaN\n",
            "1  brainas01    1871    WS3  12  15  30  361  132   4  13  NaN\n",
            "\n",
            "Salaries Data:\n",
            "    yearID teamID   playerID  salary\n",
            "0    1985    ATL  barkele01  870000\n",
            "1    1985    ATL  bedrost01  550000\n",
            "\n",
            "Teams Data:\n",
            "    yearID teamID                     name\n",
            "0    1871    BS1     Boston Red Stockings\n",
            "1    1871    CH1  Chicago White Stockings\n"
          ]
        }
      ],
      "source": [
        "import pandas as pd\n",
        "\n",
        "# Define paths to the CSV files\n",
        "path = \"./data/baseballdatabank-2017.1/core/\"\n",
        "batting_path = path + \"Batting.csv\"\n",
        "fielding_path = path + \"Fielding.csv\"\n",
        "master_path = path + \"Master.csv\"\n",
        "pitching_path = path + \"Pitching.csv\"\n",
        "salaries_path = path + \"Salaries.csv\"\n",
        "teams_path = path + \"Teams.csv\"\n",
        "\n",
        "# Load data with selected columns\n",
        "batting_data = pd.read_csv(batting_path, usecols=[\n",
        "    'playerID', 'yearID', 'teamID', 'G', 'AB', 'R', 'H', '2B', '3B', 'HR', 'RBI', 'SO', 'HBP'\n",
        "])\n",
        "\n",
        "fielding_data = pd.read_csv(fielding_path, usecols=[\n",
        "    'playerID', 'yearID', 'teamID', 'G', 'PO', 'A', 'E'\n",
        "])\n",
        "\n",
        "master_data = pd.read_csv(master_path, usecols=[\n",
        "    'playerID', 'nameFirst', 'nameLast', 'height', 'weight'\n",
        "])\n",
        "\n",
        "pitching_data = pd.read_csv(pitching_path, usecols=[\n",
        "    'playerID', 'yearID', 'teamID', 'G', 'W', 'L', 'SO', 'H', 'ER', 'HR', 'HBP'\n",
        "])\n",
        "\n",
        "salaries_data = pd.read_csv(salaries_path, usecols=[\n",
        "    'playerID', 'yearID', 'teamID', 'salary'\n",
        "])\n",
        "\n",
        "teams_data = pd.read_csv(teams_path, usecols=[\n",
        "    'teamID', 'name', 'yearID'\n",
        "])\n",
        "\n",
        "# Print and examine the first two rows of each dataframe\n",
        "print(\"Batting Data:\\n\", batting_data.head(2))\n",
        "print(\"\\nFielding Data:\\n\", fielding_data.head(2))\n",
        "print(\"\\nMaster Data:\\n\", master_data.head(2))\n",
        "print(\"\\nPitching Data:\\n\", pitching_data.head(2))\n",
        "print(\"\\nSalaries Data:\\n\", salaries_data.head(2))\n",
        "print(\"\\nTeams Data:\\n\", teams_data.head(2))\n"
      ]
    },
    {
      "cell_type": "markdown",
      "metadata": {
        "id": "K13WCaZVSzrs"
      },
      "source": [
        "__2b.__ (4 points) Define a function called `filter_by_year` that takes a dataset such as `baseball_data` and a year as input and outputs subsets of each table in the dataset that include only data from that year. Then, filter `baseball_data` to include only data from 1987, print the first two rows of each dataframe within the filtered dataset, and examine the data."
      ]
    },
    {
      "cell_type": "code",
      "execution_count": 18,
      "metadata": {
        "colab": {
          "base_uri": "https://localhost:8080/"
        },
        "id": "zeQjHrQcSAFx",
        "outputId": "7887533a-eeda-4b9a-bc4f-320a63792044"
      },
      "outputs": [
        {
          "output_type": "stream",
          "name": "stdout",
          "text": [
            "Batting Data (1987):\n",
            "         playerID  yearID teamID   G  AB  R   H  2B  3B  HR  RBI   SO  HBP\n",
            "64254   aasedo01    1987    BAL   7   0  0   0   0   0   0  0.0  0.0  0.0\n",
            "64255  abnersh01    1987    SDN  16  47  5  13   3   1   2  7.0  8.0  0.0 \n",
            "\n",
            "Fielding Data (1987):\n",
            "         playerID  yearID teamID   G  PO    A    E\n",
            "86886   aasedo01    1987    BAL   7   0  1.0  0.0\n",
            "86887  abnersh01    1987    SDN  14  23  2.0  2.0 \n",
            "\n",
            "Pitching Data (1987):\n",
            "         playerID  yearID teamID  W  L   G    H  ER  HR  SO  HBP\n",
            "25871   aasedo01    1987    BAL  1  0   7    8   2   1   3  0.0\n",
            "25872  ackerji01    1987    ATL  4  9  68  109  53  11  68  4.0 \n",
            "\n",
            "Salaries Data (1987):\n",
            "       yearID teamID   playerID  salary\n",
            "1288    1987    ATL  ackerji01  350000\n",
            "1289    1987    ATL  alexado01  650000 \n",
            "\n",
            "Teams Data (1987):\n",
            "       yearID teamID               name\n",
            "1969    1987    ATL     Atlanta Braves\n",
            "1970    1987    BAL  Baltimore Orioles \n",
            "\n"
          ]
        }
      ],
      "source": [
        "import pandas as pd\n",
        "\n",
        "# Define the function to filter data by year\n",
        "def filter_by_year(data, year):\n",
        "    filtered_data = {}\n",
        "    for key, df in data.items():\n",
        "        if 'yearID' in df.columns:\n",
        "            filtered_data[key] = df[df['yearID'] == year]\n",
        "    return filtered_data\n",
        "\n",
        "# Example dataframes (assuming data already loaded as previously defined)\n",
        "data = {\n",
        "    'Batting': batting_data,\n",
        "    'Fielding': fielding_data,\n",
        "    'Pitching': pitching_data,\n",
        "    'Salaries': salaries_data,\n",
        "    'Teams': teams_data\n",
        "}\n",
        "\n",
        "# Filter data for the year 1987\n",
        "data_1987 = filter_by_year(data, 1987)\n",
        "\n",
        "# Print the first two rows of each filtered dataframe\n",
        "for name, df in data_1987.items():\n",
        "    print(f\"{name} Data (1987):\\n\", df.head(2), \"\\n\")\n"
      ]
    },
    {
      "cell_type": "markdown",
      "metadata": {
        "id": "E_hqFEU5S7JX"
      },
      "source": [
        "__2c.__ (8 points) Define a function called `merge_tables` that takes a year and a dataset consisting of several tables such as `baseball_data` as input and outputs a single dataframe that has been merged using `pandas.merge` and filtered by year using `filter_by_year`. Pay close attention to columns that have the same names but different values, and use suffixes to indicate the table each column originally came from. Remove columns containing duplicate data prior to returning the dataframe. Apply `merge_tables` to `baseball_data` for the year 2008, and print the first five rows of the dataframe."
      ]
    },
    {
      "cell_type": "code",
      "execution_count": 22,
      "metadata": {
        "colab": {
          "base_uri": "https://localhost:8080/"
        },
        "id": "rg7_t1quSAIX",
        "outputId": "1878969a-55f7-4f1a-837a-663b318d1054"
      },
      "outputs": [
        {
          "output_type": "stream",
          "name": "stdout",
          "text": [
            "Merged Data (2008):\n",
            "    playerID  yearID teamID     G     AB     R     H    2B   3B   HR  ...  \\\n",
            "0  aardsda01    2008    BOS  47.0    1.0   0.0   0.0   0.0  0.0  0.0  ...   \n",
            "1  baileje01    2008    BOS  27.0   50.0  10.0  14.0   1.0  1.0  2.0  ...   \n",
            "2  baileje01    2008    BOS  27.0   50.0  10.0  14.0   1.0  1.0  2.0  ...   \n",
            "3    bayja01    2008    BOS  49.0  184.0  39.0  54.0  12.0  2.0  9.0  ...   \n",
            "4  beckejo02    2008    BOS  27.0    6.0   0.0   0.0   0.0  0.0  0.0  ...   \n",
            "\n",
            "      W     L  G_Pitching  H_Pitching    ER  HR_Pitching  SO_Pitching  \\\n",
            "0   4.0   2.0        47.0        49.0  30.0          4.0         49.0   \n",
            "1   NaN   NaN         NaN         NaN   NaN          NaN          NaN   \n",
            "2   NaN   NaN         NaN         NaN   NaN          NaN          NaN   \n",
            "3   NaN   NaN         NaN         NaN   NaN          NaN          NaN   \n",
            "4  12.0  10.0        27.0       173.0  78.0         18.0        172.0   \n",
            "\n",
            "   HBP_Pitching      salary            name  \n",
            "0           5.0    403250.0  Boston Red Sox  \n",
            "1           NaN         NaN  Boston Red Sox  \n",
            "2           NaN         NaN  Boston Red Sox  \n",
            "3           NaN         NaN  Boston Red Sox  \n",
            "4           9.0  10166666.0  Boston Red Sox  \n",
            "\n",
            "[5 rows x 27 columns]\n"
          ]
        }
      ],
      "source": [
        "import pandas as pd\n",
        "\n",
        "\n",
        "def merge_tables(year, dataset):\n",
        "    # Filter data for the specified year\n",
        "    filtered_data = filter_by_year(dataset, year)\n",
        "\n",
        "    # Initialize base_table as None to dynamically select the first available table\n",
        "    base_table = None\n",
        "\n",
        "    # Dynamically set base_table to the first valid DataFrame and attempt merging with others\n",
        "    for name, df in filtered_data.items():\n",
        "        if base_table is None:\n",
        "            base_table = df\n",
        "            base_name = name\n",
        "            continue\n",
        "\n",
        "        # Determine the common keys available for merging\n",
        "        common_keys = ['playerID', 'teamID', 'yearID']\n",
        "        merge_keys = [key for key in common_keys if key in base_table.columns and key in df.columns]\n",
        "\n",
        "        # Only proceed with merging if there are common keys\n",
        "        if merge_keys:\n",
        "            base_table = pd.merge(base_table, df, on=merge_keys, suffixes=('', f'_{name}'), how='outer')\n",
        "        else:\n",
        "            print(f\"Warning: No common keys for merging {base_name} and {name}. Skipping {name}.\")\n",
        "\n",
        "    # Clean up columns: Remove duplicate columns which typically arise from merging with suffixes\n",
        "    if base_table is not None:\n",
        "        for col in list(base_table.columns):\n",
        "            if col.endswith('_x'):\n",
        "                base_table.drop(col, axis=1, inplace=True)\n",
        "                new_col_name = col[:-2]\n",
        "                if new_col_name + '_y' in base_table.columns:\n",
        "                    base_table.rename(columns={new_col_name + '_y': new_col_name}, inplace=True)\n",
        "\n",
        "    return base_table\n",
        "\n",
        "# Assuming data is already loaded correctly with all required fields\n",
        "data = {\n",
        "    'Batting': batting_data,\n",
        "    'Fielding': fielding_data,\n",
        "    'Pitching': pitching_data,\n",
        "    'Salaries': salaries_data,\n",
        "    'Teams': teams_data\n",
        "}\n",
        "\n",
        "# Merge data for the year 2008\n",
        "try:\n",
        "    merged_data_2008 = merge_tables(2008, data)\n",
        "    print(\"Merged Data (2008):\")\n",
        "    print(merged_data_2008.head(5))\n",
        "except Exception as e:\n",
        "    print(f\"An error occurred: {e}\")\n"
      ]
    },
    {
      "cell_type": "markdown",
      "source": [],
      "metadata": {
        "id": "XmW2zH8pxGRU"
      }
    },
    {
      "cell_type": "markdown",
      "metadata": {
        "id": "0y4yalavTDN9"
      },
      "source": [
        "__2d.__ (4 points) Print a list of columns that contain nulls (not hard code). Then, develop and apply a strategy for handling null values (e.g., fill all nulls with the letter `M`); this strategy might vary across the set of columns containing nulls. Briefly explain your strategy and why it is appropriate for the data."
      ]
    },
    {
      "cell_type": "code",
      "execution_count": 24,
      "metadata": {
        "colab": {
          "base_uri": "https://localhost:8080/"
        },
        "id": "zsvCkMpXSAKi",
        "outputId": "6db74940-c004-4a36-f6c5-a6b8f5d1b0ce"
      },
      "outputs": [
        {
          "output_type": "stream",
          "name": "stdout",
          "text": [
            "Updated DataFrame with handled nulls:\n",
            "    playerID  yearID teamID     G     AB     R     H    2B   3B   HR  ...  \\\n",
            "0  aardsda01    2008    BOS  47.0    1.0   0.0   0.0   0.0  0.0  0.0  ...   \n",
            "1  baileje01    2008    BOS  27.0   50.0  10.0  14.0   1.0  1.0  2.0  ...   \n",
            "2  baileje01    2008    BOS  27.0   50.0  10.0  14.0   1.0  1.0  2.0  ...   \n",
            "3    bayja01    2008    BOS  49.0  184.0  39.0  54.0  12.0  2.0  9.0  ...   \n",
            "4  beckejo02    2008    BOS  27.0    6.0   0.0   0.0   0.0  0.0  0.0  ...   \n",
            "\n",
            "      W     L  G_Pitching  H_Pitching    ER  HR_Pitching  SO_Pitching  \\\n",
            "0   4.0   2.0        47.0        49.0  30.0          4.0         49.0   \n",
            "1   0.0   0.0         0.0         0.0   0.0          0.0          0.0   \n",
            "2   0.0   0.0         0.0         0.0   0.0          0.0          0.0   \n",
            "3   0.0   0.0         0.0         0.0   0.0          0.0          0.0   \n",
            "4  12.0  10.0        27.0       173.0  78.0         18.0        172.0   \n",
            "\n",
            "   HBP_Pitching      salary            name  \n",
            "0           5.0    403250.0  Boston Red Sox  \n",
            "1           0.0    975000.0  Boston Red Sox  \n",
            "2           0.0    975000.0  Boston Red Sox  \n",
            "3           0.0    975000.0  Boston Red Sox  \n",
            "4           9.0  10166666.0  Boston Red Sox  \n",
            "\n",
            "[5 rows x 27 columns]\n"
          ]
        }
      ],
      "source": [
        "# Fill all numerical columns related to performance stats with 0\n",
        "performance_stats = ['G', 'AB', 'R', 'H', '2B', '3B', 'HR', 'RBI', 'SO', 'HBP',\n",
        "                     'G_Fielding', 'PO', 'A', 'E',\n",
        "                     'W', 'L', 'G_Pitching', 'H_Pitching', 'ER', 'HR_Pitching', 'SO_Pitching', 'HBP_Pitching']\n",
        "\n",
        "for col in performance_stats:\n",
        "    if col in merged_data_2008.columns:\n",
        "        merged_data_2008[col].fillna(0, inplace=True)\n",
        "\n",
        "# For salary, as done previously, filling with the median salary if there are any remaining NaNs after an initial fill\n",
        "if 'salary' in merged_data_2008.columns:\n",
        "    median_salary = merged_data_2008['salary'].median()\n",
        "    merged_data_2008['salary'].fillna(median_salary, inplace=True)\n",
        "\n",
        "# Display the updated DataFrame\n",
        "print(\"Updated DataFrame with handled nulls:\")\n",
        "print(merged_data_2008.head())\n",
        "\n",
        "# Additional step: Removing duplicate entries if any\n",
        "merged_data_2008.drop_duplicates(subset=['playerID', 'yearID', 'teamID'], keep='first', inplace=True)\n"
      ]
    },
    {
      "cell_type": "markdown",
      "metadata": {
        "id": "b_iMIk-IR9gy"
      },
      "source": [
        "# Part 3 (30 points)\n",
        "\n",
        "This section uses a targeted scrape of Wikipedia that includes content pertaining to UK cities. The individual articles pertaining to the cities are listed on [English Wikipedia](https://en.wikipedia.org/wiki/List_of_cities_in_the_United_Kingdom)"
      ]
    },
    {
      "cell_type": "markdown",
      "metadata": {
        "id": "YGodqTy5UCfr"
      },
      "source": [
        "__3a.__ (5 points) Define a function called `get_parsed_page` that takes the title of a page as input and uses the Wikipedia REST API ([documentation here](https://en.wikipedia.org/api/rest_v1/#/)) to return the HTML content on this page. Use the `requests` module to access the page, and use `BeautifulSoup` to parse the API response. The function should return the original response and the parsed response. Apply `get_parsed_page` to \"List_of_cities_in_the_United_Kingdom\", and print the content stored under the 'head' tag."
      ]
    },
    {
      "cell_type": "code",
      "source": [
        "import requests\n",
        "from bs4 import BeautifulSoup\n",
        "\n",
        "def get_parsed_page(page_title):\n",
        "    # Construct the Wikipedia REST API URL\n",
        "    url = f\"https://en.wikipedia.org/api/rest_v1/page/html/{page_title}\"\n",
        "\n",
        "    # Make the request to fetch the page content\n",
        "    response = requests.get(url)\n",
        "\n",
        "    # Check if the request was successful\n",
        "    if response.status_code != 200:\n",
        "        raise Exception(f\"Failed to fetch page: {response.status_code}\")\n",
        "\n",
        "    # Parse the HTML content with BeautifulSoup\n",
        "    parsed_content = BeautifulSoup(response.text, 'html.parser')\n",
        "\n",
        "    # Return the parsed content and the original response\n",
        "    return parsed_content, response\n",
        "\n",
        "# Apply the function to the specific page\n",
        "page_title = \"List_of_cities_in_the_United_Kingdom\"\n",
        "page_soup, page_response = get_parsed_page(page_title)\n",
        "\n",
        "# Print the content under the 'head' tag\n",
        "head_content = page_soup.find('head')\n",
        "\n",
        "if head_content:\n",
        "    # Print the prettified content of the head tag\n",
        "    print(\"Full head content:\")\n",
        "    print(head_content.prettify())\n",
        "\n",
        "    # Extract and print the title tag\n",
        "    title_tag = head_content.find('title')\n",
        "    if title_tag:\n",
        "        print(\"\\nTitle tag content:\")\n",
        "        print(title_tag.text)\n",
        "\n",
        "    # Extract and print all meta tags\n",
        "    meta_tags = head_content.find_all('meta')\n",
        "    print(\"\\nMeta tags content:\")\n",
        "    for meta in meta_tags:\n",
        "        print(meta)\n",
        "else:\n",
        "    print(\"No head tag found\")\n"
      ],
      "metadata": {
        "colab": {
          "base_uri": "https://localhost:8080/"
        },
        "id": "I2ITeVN_RoA4",
        "outputId": "4b49f163-091e-48e9-f116-c7509bdf0707"
      },
      "execution_count": 60,
      "outputs": [
        {
          "output_type": "stream",
          "name": "stdout",
          "text": [
            "Full head content:\n",
            "<head prefix=\"mwr: https://en.wikipedia.org/wiki/Special:Redirect/\">\n",
            " <meta content=\"fea6e930-1bca-11ef-8b7b-e39c3b0a5f59\" property=\"mw:TimeUuid\"/>\n",
            " <meta charset=\"utf-8\"/>\n",
            " <meta content=\"779970\" property=\"mw:pageId\"/>\n",
            " <meta content=\"0\" property=\"mw:pageNamespace\"/>\n",
            " <link rel=\"dc:replaces\" resource=\"mwr:revision/1220948645\"/>\n",
            " <meta content=\"b34f306bd261d7b2bd2bf007e059a871e3f8b3d5\" property=\"mw:revisionSHA1\"/>\n",
            " <meta content=\"2024-04-27T21:51:10.000Z\" property=\"dc:modified\"/>\n",
            " <meta content=\"2.8.0\" property=\"mw:htmlVersion\"/>\n",
            " <meta content=\"2.8.0\" property=\"mw:html:version\"/>\n",
            " <link href=\"//en.wikipedia.org/wiki/List_of_cities_in_the_United_Kingdom\" rel=\"dc:isVersionOf\"/>\n",
            " <base href=\"//en.wikipedia.org/wiki/\"/>\n",
            " <title>\n",
            "  List of cities in the United Kingdom\n",
            " </title>\n",
            " <meta content='{\"wgKartographerLiveData\":{\"_11c0a7f96d7e405aae476452e4095a79cb8f034b\":[{\"type\":\"ExternalData\",\"service\":\"geoshape\",\"url\":\"https://maps.wikimedia.org/geoshape?getgeojson=1&amp;ids=Q23311\",\"properties\":{\"stroke-width\":6,\"stroke\":\"#ff0000\",\"title\":\"City of London\"}},{\"type\":\"Feature\",\"geometry\":{\"coordinates\":[-0.09305555555555554,51.51555555555556],\"type\":\"Point\"},\"properties\":{\"title\":\"City of London\",\"marker-color\":\"5E74F3\"}}],\"_a7ba81b3f195809fc2afe30dc231a68e90cbd5ed\":[{\"type\":\"ExternalData\",\"service\":\"geoshape\",\"url\":\"https://maps.wikimedia.org/geoshape?getgeojson=1&amp;ids=Q179351\",\"properties\":{\"stroke-width\":6,\"stroke\":\"#ff0000\",\"title\":\"Westminster\"}},{\"type\":\"Feature\",\"geometry\":{\"coordinates\":[-0.13722222222222,51.4975],\"type\":\"Point\"},\"properties\":{\"title\":\"Westminster\",\"marker-color\":\"5E74F3\"}}],\"_3ea7f173abf23dd8b1022ea0133a98f0079b4d7a\":[{\"type\":\"ExternalData\",\"service\":\"geoshape\",\"url\":\"https://maps.wikimedia.org/geoshape?getgeojson=1&amp;ids=Q20986424\",\"properties\":{\"stroke-width\":6,\"stroke\":\"#ff0000\",\"title\":\"Birmingham\"}},{\"type\":\"Feature\",\"geometry\":{\"coordinates\":[-1.89823,52.48048],\"type\":\"Point\"},\"properties\":{\"title\":\"Birmingham\",\"marker-color\":\"5E74F3\"}}],\"_5bd7102ca3c21c22a731e4a257118a055c2ab94f\":[{\"type\":\"ExternalData\",\"service\":\"geoshape\",\"url\":\"https://maps.wikimedia.org/geoshape?getgeojson=1&amp;ids=Q774015\",\"properties\":{\"stroke-width\":6,\"stroke\":\"#ff0000\",\"title\":\"City of Leeds\"}},{\"type\":\"Feature\",\"geometry\":{\"coordinates\":[-1.5491666666667,53.799166666667],\"type\":\"Point\"},\"properties\":{\"title\":\"City of Leeds\",\"marker-color\":\"5E74F3\"}}],\"_ef104dd37aabc08a3f066a4511e96749693c1ea6\":[{\"type\":\"ExternalData\",\"service\":\"geoshape\",\"url\":\"https://maps.wikimedia.org/geoshape?getgeojson=1&amp;ids=Q55934339\",\"properties\":{\"stroke-width\":6,\"stroke\":\"#ff0000\",\"title\":\"Glasgow\"}},{\"type\":\"Feature\",\"geometry\":{\"coordinates\":[-4.25,55.85],\"type\":\"Point\"},\"properties\":{\"title\":\"Glasgow\",\"marker-color\":\"5E74F3\"}}],\"_a86f56d86d5accfa1924aa9793ae20e54564fe9b\":[{\"type\":\"ExternalData\",\"service\":\"geoshape\",\"url\":\"https://maps.wikimedia.org/geoshape?getgeojson=1&amp;ids=Q21525592\",\"properties\":{\"stroke-width\":6,\"stroke\":\"#ff0000\",\"title\":\"Manchester\"}},{\"type\":\"Feature\",\"geometry\":{\"coordinates\":[-2.25,53.41667],\"type\":\"Point\"},\"properties\":{\"title\":\"Manchester\",\"marker-color\":\"5E74F3\"}}],\"_904870269b0f796bc29f6ef2c49d41ac34cc3f2e\":[{\"type\":\"ExternalData\",\"service\":\"geoshape\",\"url\":\"https://maps.wikimedia.org/geoshape?getgeojson=1&amp;ids=Q42448\",\"properties\":{\"stroke-width\":6,\"stroke\":\"#ff0000\",\"title\":\"Sheffield\"}},{\"type\":\"Feature\",\"geometry\":{\"coordinates\":[-1.4702777777777778,53.380833333333335],\"type\":\"Point\"},\"properties\":{\"title\":\"Sheffield\",\"marker-color\":\"5E74F3\"}}],\"_e38896cf703e7ed22c32996da134aa47e49ae4cf\":[{\"type\":\"ExternalData\",\"service\":\"geoshape\",\"url\":\"https://maps.wikimedia.org/geoshape?getgeojson=1&amp;ids=Q2834810\",\"properties\":{\"stroke-width\":6,\"stroke\":\"#ff0000\",\"title\":\"Bradford\"}},{\"type\":\"Feature\",\"geometry\":{\"coordinates\":[-1.754,53.792],\"type\":\"Point\"},\"properties\":{\"title\":\"Bradford\",\"marker-color\":\"5E74F3\"}}],\"_8dcf22a8ca52282bf010519809bc5bd582954eaa\":[{\"type\":\"ExternalData\",\"service\":\"geoshape\",\"url\":\"https://maps.wikimedia.org/geoshape?getgeojson=1&amp;ids=Q23436\",\"properties\":{\"stroke-width\":6,\"stroke\":\"#ff0000\",\"title\":\"Edinburgh\"}},{\"type\":\"Feature\",\"geometry\":{\"coordinates\":[-3.1891666666666665,55.95333333333333],\"type\":\"Point\"},\"properties\":{\"title\":\"Edinburgh\",\"marker-color\":\"5E74F3\"}}],\"_23f04d2d447fd605324c000e05a02110b8e493d4\":[{\"type\":\"ExternalData\",\"service\":\"geoshape\",\"url\":\"https://maps.wikimedia.org/geoshape?getgeojson=1&amp;ids=Q21665571\",\"properties\":{\"stroke-width\":6,\"stroke\":\"#ff0000\",\"title\":\"Liverpool\"}},{\"type\":\"Feature\",\"geometry\":{\"coordinates\":[-2.91667,53.41667],\"type\":\"Point\"},\"properties\":{\"title\":\"Liverpool\",\"marker-color\":\"5E74F3\"}}],\"_353ca8554f36d1bd711eb55abfc2cafbd345f308\":[{\"type\":\"ExternalData\",\"service\":\"geoshape\",\"url\":\"https://maps.wikimedia.org/geoshape?getgeojson=1&amp;ids=Q23154\",\"properties\":{\"stroke-width\":6,\"stroke\":\"#ff0000\",\"title\":\"Bristol\"}},{\"type\":\"Feature\",\"geometry\":{\"coordinates\":[-2.5975,51.45361111111111],\"type\":\"Point\"},\"properties\":{\"title\":\"Bristol\",\"marker-color\":\"5E74F3\"}}],\"_4f60e46ca4701fa2f426d07aa8ad7489dd16bbbe\":[{\"type\":\"ExternalData\",\"service\":\"geoshape\",\"url\":\"https://maps.wikimedia.org/geoshape?getgeojson=1&amp;ids=Q24342199\",\"properties\":{\"stroke-width\":6,\"stroke\":\"#ff0000\",\"title\":\"Cardiff\"}},{\"type\":\"Feature\",\"geometry\":{\"coordinates\":[-3.16667,51.5],\"type\":\"Point\"},\"properties\":{\"title\":\"Cardiff\",\"marker-color\":\"5E74F3\"}}],\"_1ddddbf8c415a25652aeaa7be3456b333a0d74a9\":[{\"type\":\"ExternalData\",\"service\":\"geoshape\",\"url\":\"https://maps.wikimedia.org/geoshape?getgeojson=1&amp;ids=Q21683242\",\"properties\":{\"stroke-width\":6,\"stroke\":\"#ff0000\",\"title\":\"Leicester\"}},{\"type\":\"Feature\",\"geometry\":{\"coordinates\":[-1.13333,52.63333],\"type\":\"Point\"},\"properties\":{\"title\":\"Leicester\",\"marker-color\":\"5E74F3\"}}],\"_5ee77b2925dbddb9d717d9eabd7c970708faa047\":[{\"type\":\"ExternalData\",\"service\":\"geoshape\",\"url\":\"https://maps.wikimedia.org/geoshape?getgeojson=1&amp;ids=Q20986417\",\"properties\":{\"stroke-width\":6,\"stroke\":\"#ff0000\",\"title\":\"Coventry\"}},{\"type\":\"Feature\",\"geometry\":{\"coordinates\":[-1.5166666666667,52.416666666667],\"type\":\"Point\"},\"properties\":{\"title\":\"Coventry\",\"marker-color\":\"5E74F3\"}}],\"_b9e9fafb505ca9800ab4e6139cdbd5f66eb45fdf\":[{\"type\":\"ExternalData\",\"service\":\"geoshape\",\"url\":\"https://maps.wikimedia.org/geoshape?getgeojson=1&amp;ids=Q763171\",\"properties\":{\"stroke-width\":6,\"stroke\":\"#ff0000\",\"title\":\"Wakefield\"}},{\"type\":\"Feature\",\"geometry\":{\"coordinates\":[-1.499,53.683],\"type\":\"Point\"},\"properties\":{\"title\":\"Wakefield\",\"marker-color\":\"5E74F3\"}}],\"_9862e97a3c35ab2c763af7fa3bab42b357b7682c\":[{\"type\":\"ExternalData\",\"service\":\"page\",\"url\":\"/w/api.php?format=json&amp;formatversion=2&amp;action=jsondata&amp;title=Belfast-2.map\"}],\"_9a0b7bb64cc305f26d610de4d7c8b4fbd22a71ec\":[{\"type\":\"ExternalData\",\"service\":\"geoshape\",\"url\":\"https://maps.wikimedia.org/geoshape?getgeojson=1&amp;ids=Q21885994\",\"properties\":{\"stroke-width\":6,\"stroke\":\"#ff0000\",\"title\":\"Nottingham\"}},{\"type\":\"Feature\",\"geometry\":{\"coordinates\":[-1.1491666666667,52.955],\"type\":\"Point\"},\"properties\":{\"title\":\"Nottingham\",\"marker-color\":\"5E74F3\"}}],\"_7c54552e03b21c5ad7b06905af1e078f7372b8f3\":[{\"type\":\"ExternalData\",\"service\":\"geoshape\",\"url\":\"https://maps.wikimedia.org/geoshape?getgeojson=1&amp;ids=Q1425428\",\"properties\":{\"stroke-width\":6,\"stroke\":\"#ff0000\",\"title\":\"Newcastle-upon-Tyne\"}},{\"type\":\"Feature\",\"geometry\":{\"coordinates\":[-1.6133333333333,54.977777777778],\"type\":\"Point\"},\"properties\":{\"title\":\"Newcastle-upon-Tyne\",\"marker-color\":\"5E74F3\"}}],\"_b0a00e54459637508daaba3c80425b80b6e85c12\":[{\"type\":\"ExternalData\",\"service\":\"geoshape\",\"url\":\"https://maps.wikimedia.org/geoshape?getgeojson=1&amp;ids=Q1925846\",\"properties\":{\"stroke-width\":6,\"stroke\":\"#ff0000\",\"title\":\"Doncaster\"}},{\"type\":\"Feature\",\"geometry\":{\"coordinates\":[-1.1286111111111,53.5225],\"type\":\"Point\"},\"properties\":{\"title\":\"Doncaster\",\"marker-color\":\"5E74F3\"}}],\"_4d4ab67905245740b3c586e398be57b081feeb1d\":[{\"type\":\"ExternalData\",\"service\":\"geoshape\",\"url\":\"https://maps.wikimedia.org/geoshape?getgeojson=1&amp;ids=Q894090\",\"properties\":{\"stroke-width\":6,\"stroke\":\"#ff0000\",\"title\":\"Milton Keynes\"}},{\"type\":\"Feature\",\"geometry\":{\"coordinates\":[-0.76666666666667,52.033333333333],\"type\":\"Point\"},\"properties\":{\"title\":\"Milton Keynes\",\"marker-color\":\"5E74F3\"}}],\"_2e950d63891ea18301deea71349a615a1da91d35\":[{\"type\":\"ExternalData\",\"service\":\"geoshape\",\"url\":\"https://maps.wikimedia.org/geoshape?getgeojson=1&amp;ids=Q1142118\",\"properties\":{\"stroke-width\":6,\"stroke\":\"#ff0000\",\"title\":\"Salford\"}},{\"type\":\"Feature\",\"geometry\":{\"coordinates\":[-2.3344444444444,53.509722222222],\"type\":\"Point\"},\"properties\":{\"title\":\"Salford\",\"marker-color\":\"5E74F3\"}}],\"_82aa94fdaf826d3783fb9f89183db43c0fd0a8a8\":[{\"type\":\"ExternalData\",\"service\":\"geoshape\",\"url\":\"https://maps.wikimedia.org/geoshape?getgeojson=1&amp;ids=Q1280897\",\"properties\":{\"stroke-width\":6,\"stroke\":\"#ff0000\",\"title\":\"Sunderland\"}},{\"type\":\"Feature\",\"geometry\":{\"coordinates\":[-1.385,54.91],\"type\":\"Point\"},\"properties\":{\"title\":\"Sunderland\",\"marker-color\":\"5E74F3\"}}],\"_edaa83d4fa8205a242a3e510f51e894315cc6c6b\":[{\"type\":\"ExternalData\",\"service\":\"geoshape\",\"url\":\"https://maps.wikimedia.org/geoshape?getgeojson=1&amp;ids=Q1022488\",\"properties\":{\"stroke-width\":6,\"stroke\":\"#ff0000\",\"title\":\"Brighton &amp;amp; Hove\"}},{\"type\":\"Feature\",\"geometry\":{\"coordinates\":[-0.15277777777778,50.827777777778],\"type\":\"Point\"},\"properties\":{\"title\":\"Brighton &amp;amp; Hove\",\"marker-color\":\"5E74F3\"}}],\"_2a9f76b0388cee0e6eb32198f630ff413b964aa1\":[{\"type\":\"ExternalData\",\"service\":\"geoshape\",\"url\":\"https://maps.wikimedia.org/geoshape?getgeojson=1&amp;ids=Q126269\",\"properties\":{\"stroke-width\":6,\"stroke\":\"#ff0000\",\"title\":\"Wolverhampton\"}},{\"type\":\"Feature\",\"geometry\":{\"coordinates\":[-2.125278,52.584167],\"type\":\"Point\"},\"properties\":{\"title\":\"Wolverhampton\",\"marker-color\":\"5E74F3\"}}],\"_e98a9f007b19d2320b3173e303a35b2b7e5b1e94\":[{\"type\":\"ExternalData\",\"service\":\"geoshape\",\"url\":\"https://maps.wikimedia.org/geoshape?getgeojson=1&amp;ids=Q21885987\",\"properties\":{\"stroke-width\":6,\"stroke\":\"#ff0000\",\"title\":\"Kingston upon Hull\"}},{\"type\":\"Feature\",\"geometry\":{\"coordinates\":[-0.33333,53.75],\"type\":\"Point\"},\"properties\":{\"title\":\"Kingston upon Hull\",\"marker-color\":\"5E74F3\"}}],\"_755a428514c1b04771fa2fd208143029a4833191\":[{\"type\":\"ExternalData\",\"service\":\"geoshape\",\"url\":\"https://maps.wikimedia.org/geoshape?getgeojson=1&amp;ids=Q43382\",\"properties\":{\"stroke-width\":6,\"stroke\":\"#ff0000\",\"title\":\"Plymouth\"}},{\"type\":\"Feature\",\"geometry\":{\"coordinates\":[-4.1422222222222,50.371388888889],\"type\":\"Point\"},\"properties\":{\"title\":\"Plymouth\",\"marker-color\":\"5E74F3\"}}],\"_3ec370512c149bb6a8363cfc0471d79d2ff6147b\":[{\"type\":\"ExternalData\",\"service\":\"geoshape\",\"url\":\"https://maps.wikimedia.org/geoshape?getgeojson=1&amp;ids=Q21885980\",\"properties\":{\"stroke-width\":6,\"stroke\":\"#ff0000\",\"title\":\"Derby\"}},{\"type\":\"Feature\",\"geometry\":{\"coordinates\":[-1.47217,52.9207],\"type\":\"Point\"},\"properties\":{\"title\":\"Derby\",\"marker-color\":\"5E74F3\"}}],\"_a21fa457e5bb3ff7aef24b6531858c98caf05e3b\":[{\"type\":\"ExternalData\",\"service\":\"geoshape\",\"url\":\"https://maps.wikimedia.org/geoshape?getgeojson=1&amp;ids=Q134902\",\"properties\":{\"stroke-width\":6,\"stroke\":\"#ff0000\",\"title\":\"Stoke-on-Trent\"}},{\"type\":\"Feature\",\"geometry\":{\"coordinates\":[-2.1833333333333,53],\"type\":\"Point\"},\"properties\":{\"title\":\"Stoke-on-Trent\",\"marker-color\":\"5E74F3\"}}],\"_d1c1d715abb6db925e7c7f9275b04720e6a3ddf8\":[{\"type\":\"ExternalData\",\"service\":\"geoshape\",\"url\":\"https://maps.wikimedia.org/geoshape?getgeojson=1&amp;ids=Q79848\",\"properties\":{\"stroke-width\":6,\"stroke\":\"#ff0000\",\"title\":\"Southampton\"}},{\"type\":\"Feature\",\"geometry\":{\"coordinates\":[-1.4044444444444444,50.906666666666666],\"type\":\"Point\"},\"properties\":{\"title\":\"Southampton\",\"marker-color\":\"5E74F3\"}}],\"_50afeb9a8dfa6839d453ee1aaba4bd57270d8ba6\":[{\"type\":\"ExternalData\",\"service\":\"geoshape\",\"url\":\"https://maps.wikimedia.org/geoshape?getgeojson=1&amp;ids=Q10996863\",\"properties\":{\"stroke-width\":6,\"stroke\":\"#ff0000\",\"title\":\"Swansea\"}},{\"type\":\"Feature\",\"geometry\":{\"coordinates\":[-4,51.58333],\"type\":\"Point\"},\"properties\":{\"title\":\"Swansea\",\"marker-color\":\"5E74F3\"}}],\"_787c9bde5393b2c9e29c4d337dbe31b81499ebc9\":[{\"type\":\"ExternalData\",\"service\":\"geoshape\",\"url\":\"https://maps.wikimedia.org/geoshape?getgeojson=1&amp;ids=Q36405\",\"properties\":{\"stroke-width\":6,\"stroke\":\"#ff0000\",\"title\":\"Aberdeen\"}},{\"type\":\"Feature\",\"geometry\":{\"coordinates\":[-2.1,57.15],\"type\":\"Point\"},\"properties\":{\"title\":\"Aberdeen\",\"marker-color\":\"5E74F3\"}}],\"_2e5f09c369787169c5472d47f5a8b64961e90755\":[{\"type\":\"ExternalData\",\"service\":\"geoshape\",\"url\":\"https://maps.wikimedia.org/geoshape?getgeojson=1&amp;ids=Q12956645\",\"properties\":{\"stroke-width\":6,\"stroke\":\"#ff0000\",\"title\":\"City of Peterborough\"}},{\"type\":\"Feature\",\"geometry\":{\"coordinates\":[-0.26666666666667,52.616666666667],\"type\":\"Point\"},\"properties\":{\"title\":\"City of Peterborough\",\"marker-color\":\"5E74F3\"}}],\"_8606d1ad37e781cfc5daae5f577947275cb9755c\":[{\"type\":\"ExternalData\",\"service\":\"geoshape\",\"url\":\"https://maps.wikimedia.org/geoshape?getgeojson=1&amp;ids=Q72259\",\"properties\":{\"stroke-width\":6,\"stroke\":\"#ff0000\",\"title\":\"Portsmouth\"}},{\"type\":\"Feature\",\"geometry\":{\"coordinates\":[-1.0872222222222,50.805833333333],\"type\":\"Point\"},\"properties\":{\"title\":\"Portsmouth\",\"marker-color\":\"5E74F3\"}}],\"_c3910a30a910b7aae31b1c8b8c502b6ca24c9591\":[{\"type\":\"ExternalData\",\"service\":\"geoshape\",\"url\":\"https://maps.wikimedia.org/geoshape?getgeojson=1&amp;ids=Q20986421\",\"properties\":{\"stroke-width\":6,\"stroke\":\"#ff0000\",\"title\":\"York\"}},{\"type\":\"Feature\",\"geometry\":{\"coordinates\":[-1.09142,53.96396],\"type\":\"Point\"},\"properties\":{\"title\":\"York\",\"marker-color\":\"5E74F3\"}}],\"_4fb7f350b3173175fae4a26988d2ec2c597e4df3\":[{\"type\":\"ExternalData\",\"service\":\"geoshape\",\"url\":\"https://maps.wikimedia.org/geoshape?getgeojson=1&amp;ids=Q589620\",\"properties\":{\"stroke-width\":6,\"stroke\":\"#ff0000\",\"title\":\"Colchester\"}},{\"type\":\"Feature\",\"geometry\":{\"coordinates\":[0.90361111111111,51.888611111111],\"type\":\"Point\"},\"properties\":{\"title\":\"Colchester\",\"marker-color\":\"5E74F3\"}}],\"_e81fee8b596a3d1c6c0f4896387fd182771ed28f\":[{\"type\":\"ExternalData\",\"service\":\"geoshape\",\"url\":\"https://maps.wikimedia.org/geoshape?getgeojson=1&amp;ids=Q894080\",\"properties\":{\"stroke-width\":6,\"stroke\":\"#ff0000\",\"title\":\"Chelmsford\"}},{\"type\":\"Feature\",\"geometry\":{\"coordinates\":[0.47944444444444445,51.73555555555556],\"type\":\"Point\"},\"properties\":{\"title\":\"Chelmsford\",\"marker-color\":\"5E74F3\"}}],\"_c86aacd8d26dd883d30224809ca8a7d7cd0797c2\":[{\"type\":\"ExternalData\",\"service\":\"geoshape\",\"url\":\"https://maps.wikimedia.org/geoshape?getgeojson=1&amp;ids=Q203995\",\"properties\":{\"stroke-width\":6,\"stroke\":\"#ff0000\",\"title\":\"Southend-on-Sea\"}},{\"type\":\"Feature\",\"geometry\":{\"coordinates\":[0.71377,51.53789],\"type\":\"Point\"},\"properties\":{\"title\":\"Southend-on-Sea\",\"marker-color\":\"5E74F3\"}}],\"_077e15e3378673324b15b059dd6a4db803354de8\":[{\"type\":\"ExternalData\",\"service\":\"geoshape\",\"url\":\"https://maps.wikimedia.org/geoshape?getgeojson=1&amp;ids=Q34217\",\"properties\":{\"stroke-width\":6,\"stroke\":\"#ff0000\",\"title\":\"Oxford\"}},{\"type\":\"Feature\",\"geometry\":{\"coordinates\":[-1.2577777777778,51.751944444444],\"type\":\"Point\"},\"properties\":{\"title\":\"Oxford\",\"marker-color\":\"5E74F3\"}}],\"_7cbd7f76bfbf3b4cf6b80654c8e055731150e6a1\":[{\"type\":\"ExternalData\",\"service\":\"geoshape\",\"url\":\"https://maps.wikimedia.org/geoshape?getgeojson=1&amp;ids=Q101254\",\"properties\":{\"stroke-width\":6,\"stroke\":\"#ff0000\",\"title\":\"Newport\"}},{\"type\":\"Feature\",\"geometry\":{\"coordinates\":[-2.997777777777778,51.58861111111111],\"type\":\"Point\"},\"properties\":{\"title\":\"Newport\",\"marker-color\":\"5E74F3\"}}],\"_f505308c7f24e9158c2d84112984cb7a9ccb0a20\":[{\"type\":\"ExternalData\",\"service\":\"geoshape\",\"url\":\"https://maps.wikimedia.org/geoshape?getgeojson=1&amp;ids=Q1094104\",\"properties\":{\"stroke-width\":6,\"stroke\":\"#ff0000\",\"title\":\"Canterbury\"}},{\"type\":\"Feature\",\"geometry\":{\"coordinates\":[1.08,51.28],\"type\":\"Point\"},\"properties\":{\"title\":\"Canterbury\",\"marker-color\":\"5E74F3\"}}],\"_cdb976753e41c2e868eab8942d8ca6395fd871ee\":[{\"type\":\"ExternalData\",\"service\":\"geoshape\",\"url\":\"https://maps.wikimedia.org/geoshape?getgeojson=1&amp;ids=Q385669\",\"properties\":{\"stroke-width\":6,\"stroke\":\"#ff0000\",\"title\":\"Preston\"}},{\"type\":\"Feature\",\"geometry\":{\"coordinates\":[-2.699,53.759],\"type\":\"Point\"},\"properties\":{\"title\":\"Preston\",\"marker-color\":\"5E74F3\"}}],\"_a2fd62e6a26e9e226faed09f3f779cbeff652cc0\":[{\"type\":\"ExternalData\",\"service\":\"geoshape\",\"url\":\"https://maps.wikimedia.org/geoshape?getgeojson=1&amp;ids=Q2357511\",\"properties\":{\"stroke-width\":6,\"stroke\":\"#ff0000\",\"title\":\"Dundee\"}},{\"type\":\"Feature\",\"geometry\":{\"coordinates\":[-2.91667,56.46667],\"type\":\"Point\"},\"properties\":{\"title\":\"Dundee\",\"marker-color\":\"5E74F3\"}}],\"_c74f297ed31d263b69e791698445ff326eac617b\":[{\"type\":\"ExternalData\",\"service\":\"geoshape\",\"url\":\"https://maps.wikimedia.org/geoshape?getgeojson=1&amp;ids=Q21713103\",\"properties\":{\"stroke-width\":6,\"stroke\":\"#ff0000\",\"title\":\"Cambridge\"}},{\"type\":\"Feature\",\"geometry\":{\"coordinates\":[0.12823,52.19714],\"type\":\"Point\"},\"properties\":{\"title\":\"Cambridge\",\"marker-color\":\"5E74F3\"}}],\"_54473dcb5f414fa7fe1232b3aa8ef2079a7fd15c\":[{\"type\":\"ExternalData\",\"service\":\"geoshape\",\"url\":\"https://maps.wikimedia.org/geoshape?getgeojson=1&amp;ids=Q1094060\",\"properties\":{\"stroke-width\":6,\"stroke\":\"#ff0000\",\"title\":\"St Albans\"}},{\"type\":\"Feature\",\"geometry\":{\"coordinates\":[-0.33333333333333,51.783333333333],\"type\":\"Point\"},\"properties\":{\"title\":\"St Albans\",\"marker-color\":\"5E74F3\"}}],\"_ebdd13e571e8466db81d96252e14c03c2c9cfab3\":[{\"type\":\"ExternalData\",\"service\":\"geoshape\",\"url\":\"https://maps.wikimedia.org/geoshape?getgeojson=1&amp;ids=Q168052\",\"properties\":{\"stroke-width\":6,\"stroke\":\"#ff0000\",\"title\":\"City of Lancaster\"}},{\"type\":\"Feature\",\"geometry\":{\"coordinates\":[-2.801,54.047],\"type\":\"Point\"},\"properties\":{\"title\":\"City of Lancaster\",\"marker-color\":\"5E74F3\"}}],\"_aeee99aa3d1c96a42cb1d401ccfc106abee91932\":[{\"type\":\"ExternalData\",\"service\":\"geoshape\",\"url\":\"https://maps.wikimedia.org/geoshape?getgeojson=1&amp;ids=Q130191\",\"properties\":{\"stroke-width\":6,\"stroke\":\"#ff0000\",\"title\":\"Norwich\"}},{\"type\":\"Feature\",\"geometry\":{\"coordinates\":[1.2927777777777778,52.62861111111111],\"type\":\"Point\"},\"properties\":{\"title\":\"Norwich\",\"marker-color\":\"5E74F3\"}}],\"_ead5481a70d4861f4ca8c43aff2cfe8b4d0a2347\":[{\"type\":\"ExternalData\",\"service\":\"page\",\"url\":\"/w/api.php?format=json&amp;formatversion=2&amp;action=jsondata&amp;title=Chester-city.map\"}],\"_dcb2448fb10244b2e74900487817c2d49f350fe3\":[{\"type\":\"ExternalData\",\"service\":\"geoshape\",\"url\":\"https://maps.wikimedia.org/geoshape?getgeojson=1&amp;ids=Q134672\",\"properties\":{\"stroke-width\":6,\"stroke\":\"#ff0000\",\"title\":\"Exeter\"}},{\"type\":\"Feature\",\"geometry\":{\"coordinates\":[-3.526944444444444,50.72555555555556],\"type\":\"Point\"},\"properties\":{\"title\":\"Exeter\",\"marker-color\":\"5E74F3\"}}],\"_307934c4809637fde2ecc0cb4aa8499a9c70831a\":[{\"type\":\"ExternalData\",\"service\":\"geoshape\",\"url\":\"https://maps.wikimedia.org/geoshape?getgeojson=1&amp;ids=Q843868\",\"properties\":{\"stroke-width\":6,\"stroke\":\"#ff0000\",\"title\":\"Wrexham\"}},{\"type\":\"Feature\",\"geometry\":{\"coordinates\":[-3.0094,53.0507],\"type\":\"Point\"},\"properties\":{\"title\":\"Wrexham\",\"marker-color\":\"5E74F3\"}}],\"_a8155604f26265d55070b6ddad9bdcc98f346dc7\":[{\"type\":\"ExternalData\",\"service\":\"geoshape\",\"url\":\"https://maps.wikimedia.org/geoshape?getgeojson=1&amp;ids=Q20986485\",\"properties\":{\"stroke-width\":6,\"stroke\":\"#ff0000\",\"title\":\"Gloucester\"}},{\"type\":\"Feature\",\"geometry\":{\"coordinates\":[-2.23795,51.84598],\"type\":\"Point\"},\"properties\":{\"title\":\"Gloucester\",\"marker-color\":\"5E74F3\"}}],\"_cb7d82f6c2be030eb1cc629db9f7bfeae0d23d7c\":[{\"type\":\"ExternalData\",\"service\":\"geoshape\",\"url\":\"https://maps.wikimedia.org/geoshape?getgeojson=1&amp;ids=Q1094226\",\"properties\":{\"stroke-width\":6,\"stroke\":\"#ff0000\",\"title\":\"Winchester\"}},{\"type\":\"Feature\",\"geometry\":{\"coordinates\":[-1.317,51.062],\"type\":\"Point\"},\"properties\":{\"title\":\"Winchester\",\"marker-color\":\"5E74F3\"}}],\"_7527cee5d911bbaa793796a688350d7f77a3d515\":[{\"type\":\"ExternalData\",\"service\":\"page\",\"url\":\"/w/api.php?format=json&amp;formatversion=2&amp;action=jsondata&amp;title=Durham-city.map\"}],\"_13daa0f7b5c6458b202b119918be71c7fe018124\":[{\"type\":\"Feature\",\"geometry\":{\"coordinates\":[-2.9438888888889,54.890833333333],\"type\":\"Point\"},\"properties\":{\"title\":\"Carlisle\",\"marker-color\":\"5E74F3\"}}],\"_0a4c0f0d099ff9882eb370cd8075e1115d86487e\":[{\"type\":\"ExternalData\",\"service\":\"geoshape\",\"url\":\"https://maps.wikimedia.org/geoshape?getgeojson=1&amp;ids=Q20986481\",\"properties\":{\"stroke-width\":6,\"stroke\":\"#ff0000\",\"title\":\"Worcester\"}},{\"type\":\"Feature\",\"geometry\":{\"coordinates\":[-2.20886,52.19612],\"type\":\"Point\"},\"properties\":{\"title\":\"Worcester\",\"marker-color\":\"5E74F3\"}}],\"_acd50672e742fd650c2506de7bd761f84665ae3b\":[{\"type\":\"ExternalData\",\"service\":\"geoshape\",\"url\":\"https://maps.wikimedia.org/geoshape?getgeojson=1&amp;ids=Q20989075\",\"properties\":{\"stroke-width\":6,\"stroke\":\"#ff0000\",\"title\":\"Lincoln\"}},{\"type\":\"Feature\",\"geometry\":{\"coordinates\":[-0.55664,53.22012],\"type\":\"Point\"},\"properties\":{\"title\":\"Lincoln\",\"marker-color\":\"5E74F3\"}}],\"_8f50a53562a8ac699d52228b3874d24ef75c1344\":[{\"type\":\"ExternalData\",\"service\":\"page\",\"url\":\"/w/api.php?format=json&amp;formatversion=2&amp;action=jsondata&amp;title=Bath-city.map\"}],\"_0435379d345597e3df495a60fb05189c28c7e8fa\":[{\"type\":\"Feature\",\"geometry\":{\"coordinates\":[-7.3416666666667,54.991666666667],\"type\":\"Point\"},\"properties\":{\"title\":\"Derry\",\"marker-color\":\"5E74F3\"}}],\"_6ef7ed897899d74e31895df4209100f1260e5882\":[{\"type\":\"Feature\",\"geometry\":{\"coordinates\":[-3.4616666666667,56.071388888889],\"type\":\"Point\"},\"properties\":{\"title\":\"Dunfermline\",\"marker-color\":\"5E74F3\"}}],\"_6551f681ccf723702119e217320357e845780a48\":[{\"type\":\"Feature\",\"geometry\":{\"coordinates\":[-5.67,54.66],\"type\":\"Point\"},\"properties\":{\"title\":\"Bangor, Northern Ireland\",\"marker-color\":\"5E74F3\"}}],\"_367cbc84c860ebe40656746191cdfc247829837f\":[{\"type\":\"Feature\",\"geometry\":{\"coordinates\":[-4.2258333333333,57.483888888889],\"type\":\"Point\"},\"properties\":{\"title\":\"Inverness\",\"marker-color\":\"5E74F3\"}}],\"_3665cdeb58c56b7dcbed7f54cc142cb2af399a9c\":[{\"type\":\"ExternalData\",\"service\":\"geoshape\",\"url\":\"https://maps.wikimedia.org/geoshape?getgeojson=1&amp;ids=Q204720\",\"properties\":{\"stroke-width\":6,\"stroke\":\"#ff0000\",\"title\":\"Hereford\"}},{\"type\":\"Feature\",\"geometry\":{\"coordinates\":[-2.7161111111111,52.056388888889],\"type\":\"Point\"},\"properties\":{\"title\":\"Hereford\",\"marker-color\":\"5E74F3\"}}],\"_6ddabcc7b920f72dadeb3411ef8a4e5bd4d12677\":[{\"type\":\"Feature\",\"geometry\":{\"coordinates\":[-6.0333333333333,54.516666666667],\"type\":\"Point\"},\"properties\":{\"title\":\"Lisburn\",\"marker-color\":\"5E74F3\"}}],\"_7379279ff2c6533efdae2c5f9aca1939b7787c6d\":[{\"type\":\"Feature\",\"geometry\":{\"coordinates\":[-3.9369,56.1166],\"type\":\"Point\"},\"properties\":{\"title\":\"Stirling\",\"marker-color\":\"5E74F3\"}}],\"_727689334940f99cdd58ad436bfc5b772e42b14d\":[{\"type\":\"Feature\",\"geometry\":{\"coordinates\":[-3.4333333333333336,56.395833333333336],\"type\":\"Point\"},\"properties\":{\"title\":\"Perth\",\"marker-color\":\"5E74F3\"}}],\"_50e99a885da16b7468e654cd43e3a1d1444f5b94\":[{\"type\":\"ExternalData\",\"service\":\"geoshape\",\"url\":\"https://maps.wikimedia.org/geoshape?getgeojson=1&amp;ids=Q160642\",\"properties\":{\"stroke-width\":6,\"stroke\":\"#ff0000\",\"title\":\"Salisbury\"}},{\"type\":\"Feature\",\"geometry\":{\"coordinates\":[-1.7936,51.074],\"type\":\"Point\"},\"properties\":{\"title\":\"Salisbury\",\"marker-color\":\"5E74F3\"}}],\"_5f7e2883f6cacb0430062e6788deab1fb3fb1ce6\":[{\"type\":\"ExternalData\",\"service\":\"geoshape\",\"url\":\"https://maps.wikimedia.org/geoshape?getgeojson=1&amp;ids=Q207371\",\"properties\":{\"stroke-width\":6,\"stroke\":\"#ff0000\",\"title\":\"Lichfield\"}},{\"type\":\"Feature\",\"geometry\":{\"coordinates\":[-1.82653,52.6835],\"type\":\"Point\"},\"properties\":{\"title\":\"Lichfield\",\"marker-color\":\"5E74F3\"}}],\"_24b732bb02b7797b84ec9f3a7bd19e36ec0cda77\":[{\"type\":\"ExternalData\",\"service\":\"geoshape\",\"url\":\"https://maps.wikimedia.org/geoshape?getgeojson=1&amp;ids=Q207639\",\"properties\":{\"stroke-width\":6,\"stroke\":\"#ff0000\",\"title\":\"Chichester\"}},{\"type\":\"Feature\",\"geometry\":{\"coordinates\":[-0.7792,50.8365],\"type\":\"Point\"},\"properties\":{\"title\":\"Chichester\",\"marker-color\":\"5E74F3\"}}],\"_ff6aaae221ba08f869b054790ddd8a209e658426\":[{\"type\":\"Feature\",\"geometry\":{\"coordinates\":[-6.3491666666667,54.175555555556],\"type\":\"Point\"},\"properties\":{\"title\":\"Newry\",\"marker-color\":\"5E74F3\"}}],\"_5ec2668f35dfb70c7cd6088ac06c1961551602a3\":[{\"type\":\"ExternalData\",\"service\":\"geoshape\",\"url\":\"https://maps.wikimedia.org/geoshape?getgeojson=1&amp;ids=Q180803\",\"properties\":{\"stroke-width\":6,\"stroke\":\"#ff0000\",\"title\":\"Truro\"}},{\"type\":\"Feature\",\"geometry\":{\"coordinates\":[-5.051,50.26],\"type\":\"Point\"},\"properties\":{\"title\":\"Truro\",\"marker-color\":\"5E74F3\"}}],\"_fe37e1af8f46b45c602346ff214918a644f27024\":[{\"type\":\"ExternalData\",\"service\":\"geoshape\",\"url\":\"https://maps.wikimedia.org/geoshape?getgeojson=1&amp;ids=Q209176\",\"properties\":{\"stroke-width\":6,\"stroke\":\"#ff0000\",\"title\":\"Ely\"}},{\"type\":\"Feature\",\"geometry\":{\"coordinates\":[0.26222222222222,52.398055555556],\"type\":\"Point\"},\"properties\":{\"title\":\"Ely\",\"marker-color\":\"5E74F3\"}}],\"_a0aa5a8a355566c1b0d868ef4313ac8339d848e6\":[{\"type\":\"ExternalData\",\"service\":\"geoshape\",\"url\":\"https://maps.wikimedia.org/geoshape?getgeojson=1&amp;ids=Q661529\",\"properties\":{\"stroke-width\":6,\"stroke\":\"#ff0000\",\"title\":\"Ripon\"}},{\"type\":\"Feature\",\"geometry\":{\"coordinates\":[-1.5236111111111,54.138055555556],\"type\":\"Point\"},\"properties\":{\"title\":\"Ripon\",\"marker-color\":\"5E74F3\"}}],\"_5916e9a9f30272f4b1e1952b1b64b4ae77915827\":[{\"type\":\"Feature\",\"geometry\":{\"coordinates\":[-6.654444,54.349444],\"type\":\"Point\"},\"properties\":{\"title\":\"Armagh\",\"marker-color\":\"5E74F3\"}}],\"_7bd9e50795aa6806519d992ccd1c444124712d13\":[{\"type\":\"ExternalData\",\"service\":\"geoshape\",\"url\":\"https://maps.wikimedia.org/geoshape?getgeojson=1&amp;ids=Q234178\",\"properties\":{\"stroke-width\":6,\"stroke\":\"#ff0000\",\"title\":\"Bangor, Wales\"}},{\"type\":\"Feature\",\"geometry\":{\"coordinates\":[-4.128,53.228],\"type\":\"Point\"},\"properties\":{\"title\":\"Bangor, Wales\",\"marker-color\":\"5E74F3\"}}],\"_2523995aa19f04952624f7b0480fcb4ef315cfd2\":[{\"type\":\"ExternalData\",\"service\":\"geoshape\",\"url\":\"https://maps.wikimedia.org/geoshape?getgeojson=1&amp;ids=Q212283\",\"properties\":{\"stroke-width\":6,\"stroke\":\"#ff0000\",\"title\":\"Wells\"}},{\"type\":\"Feature\",\"geometry\":{\"coordinates\":[-2.645,51.20944444444444],\"type\":\"Point\"},\"properties\":{\"title\":\"Wells\",\"marker-color\":\"5E74F3\"}}],\"_198f90c5353ff5b5bc17e5892f626f4db5bfdb1e\":[{\"type\":\"ExternalData\",\"service\":\"geoshape\",\"url\":\"https://maps.wikimedia.org/geoshape?getgeojson=1&amp;ids=Q27573903\",\"properties\":{\"stroke-width\":6,\"stroke\":\"#ff0000\",\"title\":\"St Asaph\"}},{\"type\":\"Feature\",\"geometry\":{\"coordinates\":[-3.44849,53.25928],\"type\":\"Point\"},\"properties\":{\"title\":\"St Asaph\",\"marker-color\":\"5E74F3\"}}],\"_71c43b8ceffa6c332b8edbc0b397c0d7e58cfb1a\":[{\"type\":\"ExternalData\",\"service\":\"geoshape\",\"url\":\"https://maps.wikimedia.org/geoshape?getgeojson=1&amp;ids=Q24341876\",\"properties\":{\"stroke-width\":6,\"stroke\":\"#ff0000\",\"title\":\"St Davids\"}},{\"type\":\"Feature\",\"geometry\":{\"coordinates\":[-5.29702,51.89045],\"type\":\"Point\"},\"properties\":{\"title\":\"St Davids\",\"marker-color\":\"5E74F3\"}}],\"_ee5716945f327f0b8f15d7663e00c44b34fadf49\":[{\"type\":\"ExternalData\",\"service\":\"geoshape\",\"url\":\"https://maps.wikimedia.org/geoshape?getgeojson=1&amp;query=SELECT+DISTINCT+%3Fid+%3FidLabel+%3Fcountylabel%0A+%28+0+as+%3Ffill_opacity%29%0A+%28+3+as+%3Fstroke_width%29+%0A+%28%3Fcountylabel+as+%3Ftitle%29%0AWHERE%0A%7B%0A%3Fid+rdfs%3Alabel+%3Fcountylabel.%0A++++++FILTER%28LANG%28%3Fcountylabel%29+%3D+%22en%22%29+%23only+eng+county+labels%0A++FILTER+%28+%3Fid+not+in+%28+wd%3AQ19186+%2C+wd%3AQ929902+%29%29%0A++%7B+%23++SERVICE+wikibase%3Alabel+%7B+bd%3AserviceParam+wikibase%3Alanguage+%22%5BAUTO_LANGUAGE%5D%22.+%7D%0A++%7B%0A++++++%7B++%3Fid+p%3AP31+%3Fstatement0.++++%3Fstatement0+%28ps%3AP31%2F%28wdt%3AP279%2A%29%29+wd%3AQ180673.+++%7D+%23+eng+counties%0A++++++UNION%0A++++++%7B++%3Fid+p%3AP31+%3Fstatement1.+++%3Fstatement1+%28ps%3AP31%2F%28wdt%3AP279%2A%29%29+wd%3AQ15060255.+++++%7D+%23scot+areas%0A++++++UNION%0A++++++%7B+%3Fid+p%3AP31+%3Fstatement2.++%3Fstatement2+%28ps%3AP31%2F%28wdt%3AP279%2A%29%29+wd%3AQ1317848.++++%7D+%23+NI+counties%0A++++++UNION+%0A++++++%7B++++%3Fid+p%3AP31+%3Fstatement5.+++%3Fstatement5+%28ps%3AP31%2F%28wdt%3AP279%2A%29%29+wd%3AQ15979307.++%7D+%23wales+principal+++%0A+++++UNION++++%7B%3Fid+p%3AP131+%3Fnewport.+%3Fnewport++%28ps%3AP131%29+wd%3AQ5283458.+%3Fid+p%3AP31+%3Fnewport2.+%3Fnewport2++%28ps%3AP31%29+wd%3AQ515.%7D+%0A++++++++UNION+++++%7B%3Fid+p%3AP131+%3Fscot.+%3Fscot++%28ps%3AP131%29+wd%3AQ22.+%3Fid+p%3AP31+%3Fscot2.+%3Fscot2++%28ps%3AP31%29+wd%3AQ515.%7D+%0A+%23+++++MINUS+%7B+++%3Fid+p%3AP31+%3Fstatement3.+++++%3Fstatement3+%28ps%3AP31%2F%28wdt%3AP279%2A%29%29+wd%3AQ19953632.+++%7D+%23former+admin+areas+%28needed+for+scotland%29%0A+++%23+++++++++OPTIONAL+%7B%3Flink+schema%3Aabout++%3Fid++.+%3Flink+schema%3AisPartOf+%3Chttps%3A%2F%2Fen.wikipedia.org%2F%3E+.+%7D+%23+url+of+webpage%0A+%23++++++BIND%28COALESCE%28concat%28%27%5B%5Bw%3A%27%2C+substr%28str%28%3Flink%29%2C31%2C400%29%2C++%27%7C%27%2C+%3Fcountylabel%2C+%27%5D%5D%27%29%2C+%28concat%28%27%5B%5Bw%3A%27%2C+%3Fcountylabel%2C++%27%7C%27%2C+%3Fcountylabel%2C+%27%5D%5D%27%29%29%29+AS+%3Flink2%29%0A++++%7D%0A+++%7D%0A++%7D%0A+LIMIT+200\"},{\"type\":\"ExternalData\",\"service\":\"geoshape\",\"url\":\"https://maps.wikimedia.org/geoshape?getgeojson=1&amp;query=SELECT+DISTINCT+%3Fid+%3FidLabel+%0A%28%22%23ff0000%22+AS+%3Ffill%29+%0A%28+0.3+AS+%3Ffill_opacity%29%0A%28+1+AS+%3Fstroke_width%29%0A%28%22%23ff0000%22+AS+%3Fstroke%29%0A%280.7+AS+%3Fstroke_opacity%29%0AWHERE%0A%7B+%23+SERVICE+wikibase%3Alabel+%7B+bd%3AserviceParam+wikibase%3Alanguage+%22%5BAUTO_LANGUAGE%5D%22.+%7D%0A+++++%7B%3Fid+rdfs%3Alabel+%3FidLabel.%7D%0A++FILTER%28+LANG%28%3FidLabel%29%3D%22en%22+%29%0A++++FILTER+%28%3Fid+%21%3D+wd%3AQ84%29%0A++++FILTER+%28%3Fid+%21%3D+wd%3AQ1094110%29%0A++++++FILTER+%28%3Fid+%21%3D+wd%3AQ23154%29%0A++++++++FILTER+%28%3Fid+%21%3D+wd%3AQ6226%29%0A+++++FILTER+%28%3Fid+%21%3D+wd%3AQ193452%29%0A++FILTER+%28%3Fid+%21%3D+wd%3AQ22889%29+%0A+FILTER+%28%3Fid+%21%3D+wd%3AQ269980%29%0A+++++%7B++++%3Fid+p%3AP31+%3Fstatement0.++++++++++%3Fstatement0+%28ps%3AP31%29+wd%3AQ515.+++++++%7D%0A++++++UNION%0A++++++%7B++++%3Fid+p%3AP31+%3Fstatement1.+++++++++%3Fstatement1+%28ps%3AP31%29+wd%3AQ27104997.++++%7D%0A++++++UNION%0A++++++%7B++++%3Fid+p%3AP31+%3Fstatement2.+++++++++%3Fstatement2+%28ps%3AP31%29+wd%3AQ21503295.++++%7D%0A+++++UNION++++%7B%3Fid+p%3AP131+%3Fnewport.+%3Fnewport++%28ps%3AP131%29+wd%3AQ11294004.+%3Fid+p%3AP31+%3Fnewport2.+%3Fnewport2++%28ps%3AP31%29+wd%3AQ515.%7D++++%7B++++%3Fid+p%3AP17+%3Fstatement3.+++++++%3Fstatement3+%28ps%3AP17%29+wd%3AQ145.++++%7D%0A%7D%0A+LIMIT+300\"},{\"type\":\"ExternalData\",\"service\":\"geopoint\",\"url\":\"https://maps.wikimedia.org/geopoint?getgeojson=1&amp;query=SELECT+DISTINCT+%3Fid+%3Fplacelabel+%3Fgeo%0A%28%3Fimg+as+%3Fimg_%29%0A%28%22-number%22+AS+%3Fmarker_symbol%29+%0A%28%22%23ff0000%22+AS+%3Fmarker_color%29%0A%28concat%28%27%5B%5Bw%3A%27%2C+substr%28str%28%3Flink%29%2C31%2C400%29%2C++%27%7C%27%2C+%3Fplacelabel%2C+%27%5D%5D%27%29+as+%3Ftitle%29%0A%28concat%28%27%27%2C+%27%5B%5BFile%3A%27%2C+substr%28str%28%3Fimg_%29%2C+52%2C+400%29%2C+%27%7C200px%5D%5D%27%29+as+%3Fdescription%29%0AWHERE+%7B++++++++%3Fid+wdt%3AP625+%3Fgeo.%0A%23+%7B+SERVICE+wikibase%3Alabel+%7B+bd%3AserviceParam+wikibase%3Alanguage+%5C%22%5BAUTO_LANGUAGE%5D%5C%22+.+%7D%0A%3Fid+rdfs%3Alabel+%3Fplacelabel+.%0AFILTER+%28LANG%28%3Fplacelabel%29+%3D+%22en%22%29%0AFILTER+%28%3Fid+%21%3D+wd%3AQ84%29+%0AFILTER+%28%3Fid+%21%3D+wd%3AQ27573903%29%0AFILTER+%28%3Fid+%21%3D+wd%3AQ24341876%29%0AFILTER+%28%3Fid+%21%3D+wd%3AQ843868%29+%0A%23+FILTER+%28%3Fid+%21%3D+wd%3AQ84%29+++++%0A+++++++%3Fid+p%3AP17+%3Fstatement0.+++++++wd%3AQ145++%5Eps%3AP17++%3Fstatement0+.%0A%3Fid+p%3AP31+%3Fstatement1.++++++wd%3AQ515++%5Eps%3AP31+%3Fstatement1.%0AMINUS+%7B+++++++++%3Fid+p%3AP31+%3Fstatement2.+++++wd%3AQ19953632++%28%5Eps%3AP31%2F%28%5Ewdt%3AP279%29%29++%3Fstatement2.%7D%0AOPTIONAL++++++%7B+%3Fid+wdt%3AP18+%3Fimg+.+%7D%0A%23+OPTIONAL+++%7B+%3Fid+p%3AP31+%3Fbody+.+%3Fbody+%28ps%3AP31%2F%28wdt%3AP1376%29%29+wdt%3AQ21503295.+%7D%0AOPTIONAL+%7B%3Flink+schema%3Aabout++%3Fid++.+%3Flink+schema%3AisPartOf+%3Chttps%3A%2F%2Fen.wikipedia.org%2F%3E+.+%7D+%23%0A++++++%7D%0AORDER+BY+ASC%28%3Fplacelabel%29+%0ALIMIT+300\"},{\"type\":\"ExternalData\",\"service\":\"page\",\"url\":\"/w/api.php?format=json&amp;formatversion=2&amp;action=jsondata&amp;title=Belfast-2.map\"}],\"_bca1b6f1568102563e28ee9ccbf11e3bb3085f81\":[{\"type\":\"Feature\",\"geometry\":{\"coordinates\":[-5.35,36.14],\"type\":\"Point\"},\"properties\":{\"title\":\"Gibraltar\",\"marker-color\":\"5E74F3\"}}],\"_9cf125153ffe4c553e4ae5db8f92fe2cd1fc78bf\":[{\"type\":\"Feature\",\"geometry\":{\"coordinates\":[-64.78305555555555,32.295],\"type\":\"Point\"},\"properties\":{\"title\":\"Hamilton\",\"marker-color\":\"5E74F3\"}}],\"_a397f50b233957cecacd4fcc844651e76dbd6443\":[{\"type\":\"Feature\",\"geometry\":{\"coordinates\":[-5.7179166666666665,-15.925138888888888],\"type\":\"Point\"},\"properties\":{\"title\":\"Jamestown\",\"marker-color\":\"5E74F3\"}}],\"_1c869ee32bfad9577382e7b1de99ed8a3cdb5a55\":[{\"type\":\"Feature\",\"geometry\":{\"coordinates\":[-57.849556,-51.693861],\"type\":\"Point\"},\"properties\":{\"title\":\"Stanley\",\"marker-color\":\"5E74F3\"}}],\"_3b77237b27e12d92ac92fbe0a76f1f2a87451158\":[{\"type\":\"Feature\",\"geometry\":{\"coordinates\":[-4.4775,54.15],\"type\":\"Point\"},\"properties\":{\"title\":\"Douglas\",\"marker-color\":\"5E74F3\"}}]}}' property=\"mw:jsConfigVars\"/>\n",
            " <meta content=\"ext.kartographer.link|ext.kartographer.staticframe|ext.cite.ux-enhancements\" property=\"mw:generalModules\"/>\n",
            " <meta content=\"ext.cite.parsoid.styles|ext.cite.styles|ext.kartographer.style\" property=\"mw:moduleStyles\"/>\n",
            " <link href=\"/w/load.php?lang=en&amp;modules=ext.cite.parsoid.styles%7Cext.cite.styles%7Cext.kartographer.style%7Cmediawiki.skinning.content.parsoid%7Cmediawiki.skinning.interface%7Csite.styles&amp;only=styles&amp;skin=vector\" rel=\"stylesheet\"/>\n",
            " <meta content=\"en\" http-equiv=\"content-language\"/>\n",
            " <meta content=\"Accept\" http-equiv=\"vary\"/>\n",
            "</head>\n",
            "\n",
            "\n",
            "Title tag content:\n",
            "List of cities in the United Kingdom\n",
            "\n",
            "Meta tags content:\n",
            "<meta content=\"fea6e930-1bca-11ef-8b7b-e39c3b0a5f59\" property=\"mw:TimeUuid\"/>\n",
            "<meta charset=\"utf-8\"/>\n",
            "<meta content=\"779970\" property=\"mw:pageId\"/>\n",
            "<meta content=\"0\" property=\"mw:pageNamespace\"/>\n",
            "<meta content=\"b34f306bd261d7b2bd2bf007e059a871e3f8b3d5\" property=\"mw:revisionSHA1\"/>\n",
            "<meta content=\"2024-04-27T21:51:10.000Z\" property=\"dc:modified\"/>\n",
            "<meta content=\"2.8.0\" property=\"mw:htmlVersion\"/>\n",
            "<meta content=\"2.8.0\" property=\"mw:html:version\"/>\n",
            "<meta content='{\"wgKartographerLiveData\":{\"_11c0a7f96d7e405aae476452e4095a79cb8f034b\":[{\"type\":\"ExternalData\",\"service\":\"geoshape\",\"url\":\"https://maps.wikimedia.org/geoshape?getgeojson=1&amp;ids=Q23311\",\"properties\":{\"stroke-width\":6,\"stroke\":\"#ff0000\",\"title\":\"City of London\"}},{\"type\":\"Feature\",\"geometry\":{\"coordinates\":[-0.09305555555555554,51.51555555555556],\"type\":\"Point\"},\"properties\":{\"title\":\"City of London\",\"marker-color\":\"5E74F3\"}}],\"_a7ba81b3f195809fc2afe30dc231a68e90cbd5ed\":[{\"type\":\"ExternalData\",\"service\":\"geoshape\",\"url\":\"https://maps.wikimedia.org/geoshape?getgeojson=1&amp;ids=Q179351\",\"properties\":{\"stroke-width\":6,\"stroke\":\"#ff0000\",\"title\":\"Westminster\"}},{\"type\":\"Feature\",\"geometry\":{\"coordinates\":[-0.13722222222222,51.4975],\"type\":\"Point\"},\"properties\":{\"title\":\"Westminster\",\"marker-color\":\"5E74F3\"}}],\"_3ea7f173abf23dd8b1022ea0133a98f0079b4d7a\":[{\"type\":\"ExternalData\",\"service\":\"geoshape\",\"url\":\"https://maps.wikimedia.org/geoshape?getgeojson=1&amp;ids=Q20986424\",\"properties\":{\"stroke-width\":6,\"stroke\":\"#ff0000\",\"title\":\"Birmingham\"}},{\"type\":\"Feature\",\"geometry\":{\"coordinates\":[-1.89823,52.48048],\"type\":\"Point\"},\"properties\":{\"title\":\"Birmingham\",\"marker-color\":\"5E74F3\"}}],\"_5bd7102ca3c21c22a731e4a257118a055c2ab94f\":[{\"type\":\"ExternalData\",\"service\":\"geoshape\",\"url\":\"https://maps.wikimedia.org/geoshape?getgeojson=1&amp;ids=Q774015\",\"properties\":{\"stroke-width\":6,\"stroke\":\"#ff0000\",\"title\":\"City of Leeds\"}},{\"type\":\"Feature\",\"geometry\":{\"coordinates\":[-1.5491666666667,53.799166666667],\"type\":\"Point\"},\"properties\":{\"title\":\"City of Leeds\",\"marker-color\":\"5E74F3\"}}],\"_ef104dd37aabc08a3f066a4511e96749693c1ea6\":[{\"type\":\"ExternalData\",\"service\":\"geoshape\",\"url\":\"https://maps.wikimedia.org/geoshape?getgeojson=1&amp;ids=Q55934339\",\"properties\":{\"stroke-width\":6,\"stroke\":\"#ff0000\",\"title\":\"Glasgow\"}},{\"type\":\"Feature\",\"geometry\":{\"coordinates\":[-4.25,55.85],\"type\":\"Point\"},\"properties\":{\"title\":\"Glasgow\",\"marker-color\":\"5E74F3\"}}],\"_a86f56d86d5accfa1924aa9793ae20e54564fe9b\":[{\"type\":\"ExternalData\",\"service\":\"geoshape\",\"url\":\"https://maps.wikimedia.org/geoshape?getgeojson=1&amp;ids=Q21525592\",\"properties\":{\"stroke-width\":6,\"stroke\":\"#ff0000\",\"title\":\"Manchester\"}},{\"type\":\"Feature\",\"geometry\":{\"coordinates\":[-2.25,53.41667],\"type\":\"Point\"},\"properties\":{\"title\":\"Manchester\",\"marker-color\":\"5E74F3\"}}],\"_904870269b0f796bc29f6ef2c49d41ac34cc3f2e\":[{\"type\":\"ExternalData\",\"service\":\"geoshape\",\"url\":\"https://maps.wikimedia.org/geoshape?getgeojson=1&amp;ids=Q42448\",\"properties\":{\"stroke-width\":6,\"stroke\":\"#ff0000\",\"title\":\"Sheffield\"}},{\"type\":\"Feature\",\"geometry\":{\"coordinates\":[-1.4702777777777778,53.380833333333335],\"type\":\"Point\"},\"properties\":{\"title\":\"Sheffield\",\"marker-color\":\"5E74F3\"}}],\"_e38896cf703e7ed22c32996da134aa47e49ae4cf\":[{\"type\":\"ExternalData\",\"service\":\"geoshape\",\"url\":\"https://maps.wikimedia.org/geoshape?getgeojson=1&amp;ids=Q2834810\",\"properties\":{\"stroke-width\":6,\"stroke\":\"#ff0000\",\"title\":\"Bradford\"}},{\"type\":\"Feature\",\"geometry\":{\"coordinates\":[-1.754,53.792],\"type\":\"Point\"},\"properties\":{\"title\":\"Bradford\",\"marker-color\":\"5E74F3\"}}],\"_8dcf22a8ca52282bf010519809bc5bd582954eaa\":[{\"type\":\"ExternalData\",\"service\":\"geoshape\",\"url\":\"https://maps.wikimedia.org/geoshape?getgeojson=1&amp;ids=Q23436\",\"properties\":{\"stroke-width\":6,\"stroke\":\"#ff0000\",\"title\":\"Edinburgh\"}},{\"type\":\"Feature\",\"geometry\":{\"coordinates\":[-3.1891666666666665,55.95333333333333],\"type\":\"Point\"},\"properties\":{\"title\":\"Edinburgh\",\"marker-color\":\"5E74F3\"}}],\"_23f04d2d447fd605324c000e05a02110b8e493d4\":[{\"type\":\"ExternalData\",\"service\":\"geoshape\",\"url\":\"https://maps.wikimedia.org/geoshape?getgeojson=1&amp;ids=Q21665571\",\"properties\":{\"stroke-width\":6,\"stroke\":\"#ff0000\",\"title\":\"Liverpool\"}},{\"type\":\"Feature\",\"geometry\":{\"coordinates\":[-2.91667,53.41667],\"type\":\"Point\"},\"properties\":{\"title\":\"Liverpool\",\"marker-color\":\"5E74F3\"}}],\"_353ca8554f36d1bd711eb55abfc2cafbd345f308\":[{\"type\":\"ExternalData\",\"service\":\"geoshape\",\"url\":\"https://maps.wikimedia.org/geoshape?getgeojson=1&amp;ids=Q23154\",\"properties\":{\"stroke-width\":6,\"stroke\":\"#ff0000\",\"title\":\"Bristol\"}},{\"type\":\"Feature\",\"geometry\":{\"coordinates\":[-2.5975,51.45361111111111],\"type\":\"Point\"},\"properties\":{\"title\":\"Bristol\",\"marker-color\":\"5E74F3\"}}],\"_4f60e46ca4701fa2f426d07aa8ad7489dd16bbbe\":[{\"type\":\"ExternalData\",\"service\":\"geoshape\",\"url\":\"https://maps.wikimedia.org/geoshape?getgeojson=1&amp;ids=Q24342199\",\"properties\":{\"stroke-width\":6,\"stroke\":\"#ff0000\",\"title\":\"Cardiff\"}},{\"type\":\"Feature\",\"geometry\":{\"coordinates\":[-3.16667,51.5],\"type\":\"Point\"},\"properties\":{\"title\":\"Cardiff\",\"marker-color\":\"5E74F3\"}}],\"_1ddddbf8c415a25652aeaa7be3456b333a0d74a9\":[{\"type\":\"ExternalData\",\"service\":\"geoshape\",\"url\":\"https://maps.wikimedia.org/geoshape?getgeojson=1&amp;ids=Q21683242\",\"properties\":{\"stroke-width\":6,\"stroke\":\"#ff0000\",\"title\":\"Leicester\"}},{\"type\":\"Feature\",\"geometry\":{\"coordinates\":[-1.13333,52.63333],\"type\":\"Point\"},\"properties\":{\"title\":\"Leicester\",\"marker-color\":\"5E74F3\"}}],\"_5ee77b2925dbddb9d717d9eabd7c970708faa047\":[{\"type\":\"ExternalData\",\"service\":\"geoshape\",\"url\":\"https://maps.wikimedia.org/geoshape?getgeojson=1&amp;ids=Q20986417\",\"properties\":{\"stroke-width\":6,\"stroke\":\"#ff0000\",\"title\":\"Coventry\"}},{\"type\":\"Feature\",\"geometry\":{\"coordinates\":[-1.5166666666667,52.416666666667],\"type\":\"Point\"},\"properties\":{\"title\":\"Coventry\",\"marker-color\":\"5E74F3\"}}],\"_b9e9fafb505ca9800ab4e6139cdbd5f66eb45fdf\":[{\"type\":\"ExternalData\",\"service\":\"geoshape\",\"url\":\"https://maps.wikimedia.org/geoshape?getgeojson=1&amp;ids=Q763171\",\"properties\":{\"stroke-width\":6,\"stroke\":\"#ff0000\",\"title\":\"Wakefield\"}},{\"type\":\"Feature\",\"geometry\":{\"coordinates\":[-1.499,53.683],\"type\":\"Point\"},\"properties\":{\"title\":\"Wakefield\",\"marker-color\":\"5E74F3\"}}],\"_9862e97a3c35ab2c763af7fa3bab42b357b7682c\":[{\"type\":\"ExternalData\",\"service\":\"page\",\"url\":\"/w/api.php?format=json&amp;formatversion=2&amp;action=jsondata&amp;title=Belfast-2.map\"}],\"_9a0b7bb64cc305f26d610de4d7c8b4fbd22a71ec\":[{\"type\":\"ExternalData\",\"service\":\"geoshape\",\"url\":\"https://maps.wikimedia.org/geoshape?getgeojson=1&amp;ids=Q21885994\",\"properties\":{\"stroke-width\":6,\"stroke\":\"#ff0000\",\"title\":\"Nottingham\"}},{\"type\":\"Feature\",\"geometry\":{\"coordinates\":[-1.1491666666667,52.955],\"type\":\"Point\"},\"properties\":{\"title\":\"Nottingham\",\"marker-color\":\"5E74F3\"}}],\"_7c54552e03b21c5ad7b06905af1e078f7372b8f3\":[{\"type\":\"ExternalData\",\"service\":\"geoshape\",\"url\":\"https://maps.wikimedia.org/geoshape?getgeojson=1&amp;ids=Q1425428\",\"properties\":{\"stroke-width\":6,\"stroke\":\"#ff0000\",\"title\":\"Newcastle-upon-Tyne\"}},{\"type\":\"Feature\",\"geometry\":{\"coordinates\":[-1.6133333333333,54.977777777778],\"type\":\"Point\"},\"properties\":{\"title\":\"Newcastle-upon-Tyne\",\"marker-color\":\"5E74F3\"}}],\"_b0a00e54459637508daaba3c80425b80b6e85c12\":[{\"type\":\"ExternalData\",\"service\":\"geoshape\",\"url\":\"https://maps.wikimedia.org/geoshape?getgeojson=1&amp;ids=Q1925846\",\"properties\":{\"stroke-width\":6,\"stroke\":\"#ff0000\",\"title\":\"Doncaster\"}},{\"type\":\"Feature\",\"geometry\":{\"coordinates\":[-1.1286111111111,53.5225],\"type\":\"Point\"},\"properties\":{\"title\":\"Doncaster\",\"marker-color\":\"5E74F3\"}}],\"_4d4ab67905245740b3c586e398be57b081feeb1d\":[{\"type\":\"ExternalData\",\"service\":\"geoshape\",\"url\":\"https://maps.wikimedia.org/geoshape?getgeojson=1&amp;ids=Q894090\",\"properties\":{\"stroke-width\":6,\"stroke\":\"#ff0000\",\"title\":\"Milton Keynes\"}},{\"type\":\"Feature\",\"geometry\":{\"coordinates\":[-0.76666666666667,52.033333333333],\"type\":\"Point\"},\"properties\":{\"title\":\"Milton Keynes\",\"marker-color\":\"5E74F3\"}}],\"_2e950d63891ea18301deea71349a615a1da91d35\":[{\"type\":\"ExternalData\",\"service\":\"geoshape\",\"url\":\"https://maps.wikimedia.org/geoshape?getgeojson=1&amp;ids=Q1142118\",\"properties\":{\"stroke-width\":6,\"stroke\":\"#ff0000\",\"title\":\"Salford\"}},{\"type\":\"Feature\",\"geometry\":{\"coordinates\":[-2.3344444444444,53.509722222222],\"type\":\"Point\"},\"properties\":{\"title\":\"Salford\",\"marker-color\":\"5E74F3\"}}],\"_82aa94fdaf826d3783fb9f89183db43c0fd0a8a8\":[{\"type\":\"ExternalData\",\"service\":\"geoshape\",\"url\":\"https://maps.wikimedia.org/geoshape?getgeojson=1&amp;ids=Q1280897\",\"properties\":{\"stroke-width\":6,\"stroke\":\"#ff0000\",\"title\":\"Sunderland\"}},{\"type\":\"Feature\",\"geometry\":{\"coordinates\":[-1.385,54.91],\"type\":\"Point\"},\"properties\":{\"title\":\"Sunderland\",\"marker-color\":\"5E74F3\"}}],\"_edaa83d4fa8205a242a3e510f51e894315cc6c6b\":[{\"type\":\"ExternalData\",\"service\":\"geoshape\",\"url\":\"https://maps.wikimedia.org/geoshape?getgeojson=1&amp;ids=Q1022488\",\"properties\":{\"stroke-width\":6,\"stroke\":\"#ff0000\",\"title\":\"Brighton &amp;amp; Hove\"}},{\"type\":\"Feature\",\"geometry\":{\"coordinates\":[-0.15277777777778,50.827777777778],\"type\":\"Point\"},\"properties\":{\"title\":\"Brighton &amp;amp; Hove\",\"marker-color\":\"5E74F3\"}}],\"_2a9f76b0388cee0e6eb32198f630ff413b964aa1\":[{\"type\":\"ExternalData\",\"service\":\"geoshape\",\"url\":\"https://maps.wikimedia.org/geoshape?getgeojson=1&amp;ids=Q126269\",\"properties\":{\"stroke-width\":6,\"stroke\":\"#ff0000\",\"title\":\"Wolverhampton\"}},{\"type\":\"Feature\",\"geometry\":{\"coordinates\":[-2.125278,52.584167],\"type\":\"Point\"},\"properties\":{\"title\":\"Wolverhampton\",\"marker-color\":\"5E74F3\"}}],\"_e98a9f007b19d2320b3173e303a35b2b7e5b1e94\":[{\"type\":\"ExternalData\",\"service\":\"geoshape\",\"url\":\"https://maps.wikimedia.org/geoshape?getgeojson=1&amp;ids=Q21885987\",\"properties\":{\"stroke-width\":6,\"stroke\":\"#ff0000\",\"title\":\"Kingston upon Hull\"}},{\"type\":\"Feature\",\"geometry\":{\"coordinates\":[-0.33333,53.75],\"type\":\"Point\"},\"properties\":{\"title\":\"Kingston upon Hull\",\"marker-color\":\"5E74F3\"}}],\"_755a428514c1b04771fa2fd208143029a4833191\":[{\"type\":\"ExternalData\",\"service\":\"geoshape\",\"url\":\"https://maps.wikimedia.org/geoshape?getgeojson=1&amp;ids=Q43382\",\"properties\":{\"stroke-width\":6,\"stroke\":\"#ff0000\",\"title\":\"Plymouth\"}},{\"type\":\"Feature\",\"geometry\":{\"coordinates\":[-4.1422222222222,50.371388888889],\"type\":\"Point\"},\"properties\":{\"title\":\"Plymouth\",\"marker-color\":\"5E74F3\"}}],\"_3ec370512c149bb6a8363cfc0471d79d2ff6147b\":[{\"type\":\"ExternalData\",\"service\":\"geoshape\",\"url\":\"https://maps.wikimedia.org/geoshape?getgeojson=1&amp;ids=Q21885980\",\"properties\":{\"stroke-width\":6,\"stroke\":\"#ff0000\",\"title\":\"Derby\"}},{\"type\":\"Feature\",\"geometry\":{\"coordinates\":[-1.47217,52.9207],\"type\":\"Point\"},\"properties\":{\"title\":\"Derby\",\"marker-color\":\"5E74F3\"}}],\"_a21fa457e5bb3ff7aef24b6531858c98caf05e3b\":[{\"type\":\"ExternalData\",\"service\":\"geoshape\",\"url\":\"https://maps.wikimedia.org/geoshape?getgeojson=1&amp;ids=Q134902\",\"properties\":{\"stroke-width\":6,\"stroke\":\"#ff0000\",\"title\":\"Stoke-on-Trent\"}},{\"type\":\"Feature\",\"geometry\":{\"coordinates\":[-2.1833333333333,53],\"type\":\"Point\"},\"properties\":{\"title\":\"Stoke-on-Trent\",\"marker-color\":\"5E74F3\"}}],\"_d1c1d715abb6db925e7c7f9275b04720e6a3ddf8\":[{\"type\":\"ExternalData\",\"service\":\"geoshape\",\"url\":\"https://maps.wikimedia.org/geoshape?getgeojson=1&amp;ids=Q79848\",\"properties\":{\"stroke-width\":6,\"stroke\":\"#ff0000\",\"title\":\"Southampton\"}},{\"type\":\"Feature\",\"geometry\":{\"coordinates\":[-1.4044444444444444,50.906666666666666],\"type\":\"Point\"},\"properties\":{\"title\":\"Southampton\",\"marker-color\":\"5E74F3\"}}],\"_50afeb9a8dfa6839d453ee1aaba4bd57270d8ba6\":[{\"type\":\"ExternalData\",\"service\":\"geoshape\",\"url\":\"https://maps.wikimedia.org/geoshape?getgeojson=1&amp;ids=Q10996863\",\"properties\":{\"stroke-width\":6,\"stroke\":\"#ff0000\",\"title\":\"Swansea\"}},{\"type\":\"Feature\",\"geometry\":{\"coordinates\":[-4,51.58333],\"type\":\"Point\"},\"properties\":{\"title\":\"Swansea\",\"marker-color\":\"5E74F3\"}}],\"_787c9bde5393b2c9e29c4d337dbe31b81499ebc9\":[{\"type\":\"ExternalData\",\"service\":\"geoshape\",\"url\":\"https://maps.wikimedia.org/geoshape?getgeojson=1&amp;ids=Q36405\",\"properties\":{\"stroke-width\":6,\"stroke\":\"#ff0000\",\"title\":\"Aberdeen\"}},{\"type\":\"Feature\",\"geometry\":{\"coordinates\":[-2.1,57.15],\"type\":\"Point\"},\"properties\":{\"title\":\"Aberdeen\",\"marker-color\":\"5E74F3\"}}],\"_2e5f09c369787169c5472d47f5a8b64961e90755\":[{\"type\":\"ExternalData\",\"service\":\"geoshape\",\"url\":\"https://maps.wikimedia.org/geoshape?getgeojson=1&amp;ids=Q12956645\",\"properties\":{\"stroke-width\":6,\"stroke\":\"#ff0000\",\"title\":\"City of Peterborough\"}},{\"type\":\"Feature\",\"geometry\":{\"coordinates\":[-0.26666666666667,52.616666666667],\"type\":\"Point\"},\"properties\":{\"title\":\"City of Peterborough\",\"marker-color\":\"5E74F3\"}}],\"_8606d1ad37e781cfc5daae5f577947275cb9755c\":[{\"type\":\"ExternalData\",\"service\":\"geoshape\",\"url\":\"https://maps.wikimedia.org/geoshape?getgeojson=1&amp;ids=Q72259\",\"properties\":{\"stroke-width\":6,\"stroke\":\"#ff0000\",\"title\":\"Portsmouth\"}},{\"type\":\"Feature\",\"geometry\":{\"coordinates\":[-1.0872222222222,50.805833333333],\"type\":\"Point\"},\"properties\":{\"title\":\"Portsmouth\",\"marker-color\":\"5E74F3\"}}],\"_c3910a30a910b7aae31b1c8b8c502b6ca24c9591\":[{\"type\":\"ExternalData\",\"service\":\"geoshape\",\"url\":\"https://maps.wikimedia.org/geoshape?getgeojson=1&amp;ids=Q20986421\",\"properties\":{\"stroke-width\":6,\"stroke\":\"#ff0000\",\"title\":\"York\"}},{\"type\":\"Feature\",\"geometry\":{\"coordinates\":[-1.09142,53.96396],\"type\":\"Point\"},\"properties\":{\"title\":\"York\",\"marker-color\":\"5E74F3\"}}],\"_4fb7f350b3173175fae4a26988d2ec2c597e4df3\":[{\"type\":\"ExternalData\",\"service\":\"geoshape\",\"url\":\"https://maps.wikimedia.org/geoshape?getgeojson=1&amp;ids=Q589620\",\"properties\":{\"stroke-width\":6,\"stroke\":\"#ff0000\",\"title\":\"Colchester\"}},{\"type\":\"Feature\",\"geometry\":{\"coordinates\":[0.90361111111111,51.888611111111],\"type\":\"Point\"},\"properties\":{\"title\":\"Colchester\",\"marker-color\":\"5E74F3\"}}],\"_e81fee8b596a3d1c6c0f4896387fd182771ed28f\":[{\"type\":\"ExternalData\",\"service\":\"geoshape\",\"url\":\"https://maps.wikimedia.org/geoshape?getgeojson=1&amp;ids=Q894080\",\"properties\":{\"stroke-width\":6,\"stroke\":\"#ff0000\",\"title\":\"Chelmsford\"}},{\"type\":\"Feature\",\"geometry\":{\"coordinates\":[0.47944444444444445,51.73555555555556],\"type\":\"Point\"},\"properties\":{\"title\":\"Chelmsford\",\"marker-color\":\"5E74F3\"}}],\"_c86aacd8d26dd883d30224809ca8a7d7cd0797c2\":[{\"type\":\"ExternalData\",\"service\":\"geoshape\",\"url\":\"https://maps.wikimedia.org/geoshape?getgeojson=1&amp;ids=Q203995\",\"properties\":{\"stroke-width\":6,\"stroke\":\"#ff0000\",\"title\":\"Southend-on-Sea\"}},{\"type\":\"Feature\",\"geometry\":{\"coordinates\":[0.71377,51.53789],\"type\":\"Point\"},\"properties\":{\"title\":\"Southend-on-Sea\",\"marker-color\":\"5E74F3\"}}],\"_077e15e3378673324b15b059dd6a4db803354de8\":[{\"type\":\"ExternalData\",\"service\":\"geoshape\",\"url\":\"https://maps.wikimedia.org/geoshape?getgeojson=1&amp;ids=Q34217\",\"properties\":{\"stroke-width\":6,\"stroke\":\"#ff0000\",\"title\":\"Oxford\"}},{\"type\":\"Feature\",\"geometry\":{\"coordinates\":[-1.2577777777778,51.751944444444],\"type\":\"Point\"},\"properties\":{\"title\":\"Oxford\",\"marker-color\":\"5E74F3\"}}],\"_7cbd7f76bfbf3b4cf6b80654c8e055731150e6a1\":[{\"type\":\"ExternalData\",\"service\":\"geoshape\",\"url\":\"https://maps.wikimedia.org/geoshape?getgeojson=1&amp;ids=Q101254\",\"properties\":{\"stroke-width\":6,\"stroke\":\"#ff0000\",\"title\":\"Newport\"}},{\"type\":\"Feature\",\"geometry\":{\"coordinates\":[-2.997777777777778,51.58861111111111],\"type\":\"Point\"},\"properties\":{\"title\":\"Newport\",\"marker-color\":\"5E74F3\"}}],\"_f505308c7f24e9158c2d84112984cb7a9ccb0a20\":[{\"type\":\"ExternalData\",\"service\":\"geoshape\",\"url\":\"https://maps.wikimedia.org/geoshape?getgeojson=1&amp;ids=Q1094104\",\"properties\":{\"stroke-width\":6,\"stroke\":\"#ff0000\",\"title\":\"Canterbury\"}},{\"type\":\"Feature\",\"geometry\":{\"coordinates\":[1.08,51.28],\"type\":\"Point\"},\"properties\":{\"title\":\"Canterbury\",\"marker-color\":\"5E74F3\"}}],\"_cdb976753e41c2e868eab8942d8ca6395fd871ee\":[{\"type\":\"ExternalData\",\"service\":\"geoshape\",\"url\":\"https://maps.wikimedia.org/geoshape?getgeojson=1&amp;ids=Q385669\",\"properties\":{\"stroke-width\":6,\"stroke\":\"#ff0000\",\"title\":\"Preston\"}},{\"type\":\"Feature\",\"geometry\":{\"coordinates\":[-2.699,53.759],\"type\":\"Point\"},\"properties\":{\"title\":\"Preston\",\"marker-color\":\"5E74F3\"}}],\"_a2fd62e6a26e9e226faed09f3f779cbeff652cc0\":[{\"type\":\"ExternalData\",\"service\":\"geoshape\",\"url\":\"https://maps.wikimedia.org/geoshape?getgeojson=1&amp;ids=Q2357511\",\"properties\":{\"stroke-width\":6,\"stroke\":\"#ff0000\",\"title\":\"Dundee\"}},{\"type\":\"Feature\",\"geometry\":{\"coordinates\":[-2.91667,56.46667],\"type\":\"Point\"},\"properties\":{\"title\":\"Dundee\",\"marker-color\":\"5E74F3\"}}],\"_c74f297ed31d263b69e791698445ff326eac617b\":[{\"type\":\"ExternalData\",\"service\":\"geoshape\",\"url\":\"https://maps.wikimedia.org/geoshape?getgeojson=1&amp;ids=Q21713103\",\"properties\":{\"stroke-width\":6,\"stroke\":\"#ff0000\",\"title\":\"Cambridge\"}},{\"type\":\"Feature\",\"geometry\":{\"coordinates\":[0.12823,52.19714],\"type\":\"Point\"},\"properties\":{\"title\":\"Cambridge\",\"marker-color\":\"5E74F3\"}}],\"_54473dcb5f414fa7fe1232b3aa8ef2079a7fd15c\":[{\"type\":\"ExternalData\",\"service\":\"geoshape\",\"url\":\"https://maps.wikimedia.org/geoshape?getgeojson=1&amp;ids=Q1094060\",\"properties\":{\"stroke-width\":6,\"stroke\":\"#ff0000\",\"title\":\"St Albans\"}},{\"type\":\"Feature\",\"geometry\":{\"coordinates\":[-0.33333333333333,51.783333333333],\"type\":\"Point\"},\"properties\":{\"title\":\"St Albans\",\"marker-color\":\"5E74F3\"}}],\"_ebdd13e571e8466db81d96252e14c03c2c9cfab3\":[{\"type\":\"ExternalData\",\"service\":\"geoshape\",\"url\":\"https://maps.wikimedia.org/geoshape?getgeojson=1&amp;ids=Q168052\",\"properties\":{\"stroke-width\":6,\"stroke\":\"#ff0000\",\"title\":\"City of Lancaster\"}},{\"type\":\"Feature\",\"geometry\":{\"coordinates\":[-2.801,54.047],\"type\":\"Point\"},\"properties\":{\"title\":\"City of Lancaster\",\"marker-color\":\"5E74F3\"}}],\"_aeee99aa3d1c96a42cb1d401ccfc106abee91932\":[{\"type\":\"ExternalData\",\"service\":\"geoshape\",\"url\":\"https://maps.wikimedia.org/geoshape?getgeojson=1&amp;ids=Q130191\",\"properties\":{\"stroke-width\":6,\"stroke\":\"#ff0000\",\"title\":\"Norwich\"}},{\"type\":\"Feature\",\"geometry\":{\"coordinates\":[1.2927777777777778,52.62861111111111],\"type\":\"Point\"},\"properties\":{\"title\":\"Norwich\",\"marker-color\":\"5E74F3\"}}],\"_ead5481a70d4861f4ca8c43aff2cfe8b4d0a2347\":[{\"type\":\"ExternalData\",\"service\":\"page\",\"url\":\"/w/api.php?format=json&amp;formatversion=2&amp;action=jsondata&amp;title=Chester-city.map\"}],\"_dcb2448fb10244b2e74900487817c2d49f350fe3\":[{\"type\":\"ExternalData\",\"service\":\"geoshape\",\"url\":\"https://maps.wikimedia.org/geoshape?getgeojson=1&amp;ids=Q134672\",\"properties\":{\"stroke-width\":6,\"stroke\":\"#ff0000\",\"title\":\"Exeter\"}},{\"type\":\"Feature\",\"geometry\":{\"coordinates\":[-3.526944444444444,50.72555555555556],\"type\":\"Point\"},\"properties\":{\"title\":\"Exeter\",\"marker-color\":\"5E74F3\"}}],\"_307934c4809637fde2ecc0cb4aa8499a9c70831a\":[{\"type\":\"ExternalData\",\"service\":\"geoshape\",\"url\":\"https://maps.wikimedia.org/geoshape?getgeojson=1&amp;ids=Q843868\",\"properties\":{\"stroke-width\":6,\"stroke\":\"#ff0000\",\"title\":\"Wrexham\"}},{\"type\":\"Feature\",\"geometry\":{\"coordinates\":[-3.0094,53.0507],\"type\":\"Point\"},\"properties\":{\"title\":\"Wrexham\",\"marker-color\":\"5E74F3\"}}],\"_a8155604f26265d55070b6ddad9bdcc98f346dc7\":[{\"type\":\"ExternalData\",\"service\":\"geoshape\",\"url\":\"https://maps.wikimedia.org/geoshape?getgeojson=1&amp;ids=Q20986485\",\"properties\":{\"stroke-width\":6,\"stroke\":\"#ff0000\",\"title\":\"Gloucester\"}},{\"type\":\"Feature\",\"geometry\":{\"coordinates\":[-2.23795,51.84598],\"type\":\"Point\"},\"properties\":{\"title\":\"Gloucester\",\"marker-color\":\"5E74F3\"}}],\"_cb7d82f6c2be030eb1cc629db9f7bfeae0d23d7c\":[{\"type\":\"ExternalData\",\"service\":\"geoshape\",\"url\":\"https://maps.wikimedia.org/geoshape?getgeojson=1&amp;ids=Q1094226\",\"properties\":{\"stroke-width\":6,\"stroke\":\"#ff0000\",\"title\":\"Winchester\"}},{\"type\":\"Feature\",\"geometry\":{\"coordinates\":[-1.317,51.062],\"type\":\"Point\"},\"properties\":{\"title\":\"Winchester\",\"marker-color\":\"5E74F3\"}}],\"_7527cee5d911bbaa793796a688350d7f77a3d515\":[{\"type\":\"ExternalData\",\"service\":\"page\",\"url\":\"/w/api.php?format=json&amp;formatversion=2&amp;action=jsondata&amp;title=Durham-city.map\"}],\"_13daa0f7b5c6458b202b119918be71c7fe018124\":[{\"type\":\"Feature\",\"geometry\":{\"coordinates\":[-2.9438888888889,54.890833333333],\"type\":\"Point\"},\"properties\":{\"title\":\"Carlisle\",\"marker-color\":\"5E74F3\"}}],\"_0a4c0f0d099ff9882eb370cd8075e1115d86487e\":[{\"type\":\"ExternalData\",\"service\":\"geoshape\",\"url\":\"https://maps.wikimedia.org/geoshape?getgeojson=1&amp;ids=Q20986481\",\"properties\":{\"stroke-width\":6,\"stroke\":\"#ff0000\",\"title\":\"Worcester\"}},{\"type\":\"Feature\",\"geometry\":{\"coordinates\":[-2.20886,52.19612],\"type\":\"Point\"},\"properties\":{\"title\":\"Worcester\",\"marker-color\":\"5E74F3\"}}],\"_acd50672e742fd650c2506de7bd761f84665ae3b\":[{\"type\":\"ExternalData\",\"service\":\"geoshape\",\"url\":\"https://maps.wikimedia.org/geoshape?getgeojson=1&amp;ids=Q20989075\",\"properties\":{\"stroke-width\":6,\"stroke\":\"#ff0000\",\"title\":\"Lincoln\"}},{\"type\":\"Feature\",\"geometry\":{\"coordinates\":[-0.55664,53.22012],\"type\":\"Point\"},\"properties\":{\"title\":\"Lincoln\",\"marker-color\":\"5E74F3\"}}],\"_8f50a53562a8ac699d52228b3874d24ef75c1344\":[{\"type\":\"ExternalData\",\"service\":\"page\",\"url\":\"/w/api.php?format=json&amp;formatversion=2&amp;action=jsondata&amp;title=Bath-city.map\"}],\"_0435379d345597e3df495a60fb05189c28c7e8fa\":[{\"type\":\"Feature\",\"geometry\":{\"coordinates\":[-7.3416666666667,54.991666666667],\"type\":\"Point\"},\"properties\":{\"title\":\"Derry\",\"marker-color\":\"5E74F3\"}}],\"_6ef7ed897899d74e31895df4209100f1260e5882\":[{\"type\":\"Feature\",\"geometry\":{\"coordinates\":[-3.4616666666667,56.071388888889],\"type\":\"Point\"},\"properties\":{\"title\":\"Dunfermline\",\"marker-color\":\"5E74F3\"}}],\"_6551f681ccf723702119e217320357e845780a48\":[{\"type\":\"Feature\",\"geometry\":{\"coordinates\":[-5.67,54.66],\"type\":\"Point\"},\"properties\":{\"title\":\"Bangor, Northern Ireland\",\"marker-color\":\"5E74F3\"}}],\"_367cbc84c860ebe40656746191cdfc247829837f\":[{\"type\":\"Feature\",\"geometry\":{\"coordinates\":[-4.2258333333333,57.483888888889],\"type\":\"Point\"},\"properties\":{\"title\":\"Inverness\",\"marker-color\":\"5E74F3\"}}],\"_3665cdeb58c56b7dcbed7f54cc142cb2af399a9c\":[{\"type\":\"ExternalData\",\"service\":\"geoshape\",\"url\":\"https://maps.wikimedia.org/geoshape?getgeojson=1&amp;ids=Q204720\",\"properties\":{\"stroke-width\":6,\"stroke\":\"#ff0000\",\"title\":\"Hereford\"}},{\"type\":\"Feature\",\"geometry\":{\"coordinates\":[-2.7161111111111,52.056388888889],\"type\":\"Point\"},\"properties\":{\"title\":\"Hereford\",\"marker-color\":\"5E74F3\"}}],\"_6ddabcc7b920f72dadeb3411ef8a4e5bd4d12677\":[{\"type\":\"Feature\",\"geometry\":{\"coordinates\":[-6.0333333333333,54.516666666667],\"type\":\"Point\"},\"properties\":{\"title\":\"Lisburn\",\"marker-color\":\"5E74F3\"}}],\"_7379279ff2c6533efdae2c5f9aca1939b7787c6d\":[{\"type\":\"Feature\",\"geometry\":{\"coordinates\":[-3.9369,56.1166],\"type\":\"Point\"},\"properties\":{\"title\":\"Stirling\",\"marker-color\":\"5E74F3\"}}],\"_727689334940f99cdd58ad436bfc5b772e42b14d\":[{\"type\":\"Feature\",\"geometry\":{\"coordinates\":[-3.4333333333333336,56.395833333333336],\"type\":\"Point\"},\"properties\":{\"title\":\"Perth\",\"marker-color\":\"5E74F3\"}}],\"_50e99a885da16b7468e654cd43e3a1d1444f5b94\":[{\"type\":\"ExternalData\",\"service\":\"geoshape\",\"url\":\"https://maps.wikimedia.org/geoshape?getgeojson=1&amp;ids=Q160642\",\"properties\":{\"stroke-width\":6,\"stroke\":\"#ff0000\",\"title\":\"Salisbury\"}},{\"type\":\"Feature\",\"geometry\":{\"coordinates\":[-1.7936,51.074],\"type\":\"Point\"},\"properties\":{\"title\":\"Salisbury\",\"marker-color\":\"5E74F3\"}}],\"_5f7e2883f6cacb0430062e6788deab1fb3fb1ce6\":[{\"type\":\"ExternalData\",\"service\":\"geoshape\",\"url\":\"https://maps.wikimedia.org/geoshape?getgeojson=1&amp;ids=Q207371\",\"properties\":{\"stroke-width\":6,\"stroke\":\"#ff0000\",\"title\":\"Lichfield\"}},{\"type\":\"Feature\",\"geometry\":{\"coordinates\":[-1.82653,52.6835],\"type\":\"Point\"},\"properties\":{\"title\":\"Lichfield\",\"marker-color\":\"5E74F3\"}}],\"_24b732bb02b7797b84ec9f3a7bd19e36ec0cda77\":[{\"type\":\"ExternalData\",\"service\":\"geoshape\",\"url\":\"https://maps.wikimedia.org/geoshape?getgeojson=1&amp;ids=Q207639\",\"properties\":{\"stroke-width\":6,\"stroke\":\"#ff0000\",\"title\":\"Chichester\"}},{\"type\":\"Feature\",\"geometry\":{\"coordinates\":[-0.7792,50.8365],\"type\":\"Point\"},\"properties\":{\"title\":\"Chichester\",\"marker-color\":\"5E74F3\"}}],\"_ff6aaae221ba08f869b054790ddd8a209e658426\":[{\"type\":\"Feature\",\"geometry\":{\"coordinates\":[-6.3491666666667,54.175555555556],\"type\":\"Point\"},\"properties\":{\"title\":\"Newry\",\"marker-color\":\"5E74F3\"}}],\"_5ec2668f35dfb70c7cd6088ac06c1961551602a3\":[{\"type\":\"ExternalData\",\"service\":\"geoshape\",\"url\":\"https://maps.wikimedia.org/geoshape?getgeojson=1&amp;ids=Q180803\",\"properties\":{\"stroke-width\":6,\"stroke\":\"#ff0000\",\"title\":\"Truro\"}},{\"type\":\"Feature\",\"geometry\":{\"coordinates\":[-5.051,50.26],\"type\":\"Point\"},\"properties\":{\"title\":\"Truro\",\"marker-color\":\"5E74F3\"}}],\"_fe37e1af8f46b45c602346ff214918a644f27024\":[{\"type\":\"ExternalData\",\"service\":\"geoshape\",\"url\":\"https://maps.wikimedia.org/geoshape?getgeojson=1&amp;ids=Q209176\",\"properties\":{\"stroke-width\":6,\"stroke\":\"#ff0000\",\"title\":\"Ely\"}},{\"type\":\"Feature\",\"geometry\":{\"coordinates\":[0.26222222222222,52.398055555556],\"type\":\"Point\"},\"properties\":{\"title\":\"Ely\",\"marker-color\":\"5E74F3\"}}],\"_a0aa5a8a355566c1b0d868ef4313ac8339d848e6\":[{\"type\":\"ExternalData\",\"service\":\"geoshape\",\"url\":\"https://maps.wikimedia.org/geoshape?getgeojson=1&amp;ids=Q661529\",\"properties\":{\"stroke-width\":6,\"stroke\":\"#ff0000\",\"title\":\"Ripon\"}},{\"type\":\"Feature\",\"geometry\":{\"coordinates\":[-1.5236111111111,54.138055555556],\"type\":\"Point\"},\"properties\":{\"title\":\"Ripon\",\"marker-color\":\"5E74F3\"}}],\"_5916e9a9f30272f4b1e1952b1b64b4ae77915827\":[{\"type\":\"Feature\",\"geometry\":{\"coordinates\":[-6.654444,54.349444],\"type\":\"Point\"},\"properties\":{\"title\":\"Armagh\",\"marker-color\":\"5E74F3\"}}],\"_7bd9e50795aa6806519d992ccd1c444124712d13\":[{\"type\":\"ExternalData\",\"service\":\"geoshape\",\"url\":\"https://maps.wikimedia.org/geoshape?getgeojson=1&amp;ids=Q234178\",\"properties\":{\"stroke-width\":6,\"stroke\":\"#ff0000\",\"title\":\"Bangor, Wales\"}},{\"type\":\"Feature\",\"geometry\":{\"coordinates\":[-4.128,53.228],\"type\":\"Point\"},\"properties\":{\"title\":\"Bangor, Wales\",\"marker-color\":\"5E74F3\"}}],\"_2523995aa19f04952624f7b0480fcb4ef315cfd2\":[{\"type\":\"ExternalData\",\"service\":\"geoshape\",\"url\":\"https://maps.wikimedia.org/geoshape?getgeojson=1&amp;ids=Q212283\",\"properties\":{\"stroke-width\":6,\"stroke\":\"#ff0000\",\"title\":\"Wells\"}},{\"type\":\"Feature\",\"geometry\":{\"coordinates\":[-2.645,51.20944444444444],\"type\":\"Point\"},\"properties\":{\"title\":\"Wells\",\"marker-color\":\"5E74F3\"}}],\"_198f90c5353ff5b5bc17e5892f626f4db5bfdb1e\":[{\"type\":\"ExternalData\",\"service\":\"geoshape\",\"url\":\"https://maps.wikimedia.org/geoshape?getgeojson=1&amp;ids=Q27573903\",\"properties\":{\"stroke-width\":6,\"stroke\":\"#ff0000\",\"title\":\"St Asaph\"}},{\"type\":\"Feature\",\"geometry\":{\"coordinates\":[-3.44849,53.25928],\"type\":\"Point\"},\"properties\":{\"title\":\"St Asaph\",\"marker-color\":\"5E74F3\"}}],\"_71c43b8ceffa6c332b8edbc0b397c0d7e58cfb1a\":[{\"type\":\"ExternalData\",\"service\":\"geoshape\",\"url\":\"https://maps.wikimedia.org/geoshape?getgeojson=1&amp;ids=Q24341876\",\"properties\":{\"stroke-width\":6,\"stroke\":\"#ff0000\",\"title\":\"St Davids\"}},{\"type\":\"Feature\",\"geometry\":{\"coordinates\":[-5.29702,51.89045],\"type\":\"Point\"},\"properties\":{\"title\":\"St Davids\",\"marker-color\":\"5E74F3\"}}],\"_ee5716945f327f0b8f15d7663e00c44b34fadf49\":[{\"type\":\"ExternalData\",\"service\":\"geoshape\",\"url\":\"https://maps.wikimedia.org/geoshape?getgeojson=1&amp;query=SELECT+DISTINCT+%3Fid+%3FidLabel+%3Fcountylabel%0A+%28+0+as+%3Ffill_opacity%29%0A+%28+3+as+%3Fstroke_width%29+%0A+%28%3Fcountylabel+as+%3Ftitle%29%0AWHERE%0A%7B%0A%3Fid+rdfs%3Alabel+%3Fcountylabel.%0A++++++FILTER%28LANG%28%3Fcountylabel%29+%3D+%22en%22%29+%23only+eng+county+labels%0A++FILTER+%28+%3Fid+not+in+%28+wd%3AQ19186+%2C+wd%3AQ929902+%29%29%0A++%7B+%23++SERVICE+wikibase%3Alabel+%7B+bd%3AserviceParam+wikibase%3Alanguage+%22%5BAUTO_LANGUAGE%5D%22.+%7D%0A++%7B%0A++++++%7B++%3Fid+p%3AP31+%3Fstatement0.++++%3Fstatement0+%28ps%3AP31%2F%28wdt%3AP279%2A%29%29+wd%3AQ180673.+++%7D+%23+eng+counties%0A++++++UNION%0A++++++%7B++%3Fid+p%3AP31+%3Fstatement1.+++%3Fstatement1+%28ps%3AP31%2F%28wdt%3AP279%2A%29%29+wd%3AQ15060255.+++++%7D+%23scot+areas%0A++++++UNION%0A++++++%7B+%3Fid+p%3AP31+%3Fstatement2.++%3Fstatement2+%28ps%3AP31%2F%28wdt%3AP279%2A%29%29+wd%3AQ1317848.++++%7D+%23+NI+counties%0A++++++UNION+%0A++++++%7B++++%3Fid+p%3AP31+%3Fstatement5.+++%3Fstatement5+%28ps%3AP31%2F%28wdt%3AP279%2A%29%29+wd%3AQ15979307.++%7D+%23wales+principal+++%0A+++++UNION++++%7B%3Fid+p%3AP131+%3Fnewport.+%3Fnewport++%28ps%3AP131%29+wd%3AQ5283458.+%3Fid+p%3AP31+%3Fnewport2.+%3Fnewport2++%28ps%3AP31%29+wd%3AQ515.%7D+%0A++++++++UNION+++++%7B%3Fid+p%3AP131+%3Fscot.+%3Fscot++%28ps%3AP131%29+wd%3AQ22.+%3Fid+p%3AP31+%3Fscot2.+%3Fscot2++%28ps%3AP31%29+wd%3AQ515.%7D+%0A+%23+++++MINUS+%7B+++%3Fid+p%3AP31+%3Fstatement3.+++++%3Fstatement3+%28ps%3AP31%2F%28wdt%3AP279%2A%29%29+wd%3AQ19953632.+++%7D+%23former+admin+areas+%28needed+for+scotland%29%0A+++%23+++++++++OPTIONAL+%7B%3Flink+schema%3Aabout++%3Fid++.+%3Flink+schema%3AisPartOf+%3Chttps%3A%2F%2Fen.wikipedia.org%2F%3E+.+%7D+%23+url+of+webpage%0A+%23++++++BIND%28COALESCE%28concat%28%27%5B%5Bw%3A%27%2C+substr%28str%28%3Flink%29%2C31%2C400%29%2C++%27%7C%27%2C+%3Fcountylabel%2C+%27%5D%5D%27%29%2C+%28concat%28%27%5B%5Bw%3A%27%2C+%3Fcountylabel%2C++%27%7C%27%2C+%3Fcountylabel%2C+%27%5D%5D%27%29%29%29+AS+%3Flink2%29%0A++++%7D%0A+++%7D%0A++%7D%0A+LIMIT+200\"},{\"type\":\"ExternalData\",\"service\":\"geoshape\",\"url\":\"https://maps.wikimedia.org/geoshape?getgeojson=1&amp;query=SELECT+DISTINCT+%3Fid+%3FidLabel+%0A%28%22%23ff0000%22+AS+%3Ffill%29+%0A%28+0.3+AS+%3Ffill_opacity%29%0A%28+1+AS+%3Fstroke_width%29%0A%28%22%23ff0000%22+AS+%3Fstroke%29%0A%280.7+AS+%3Fstroke_opacity%29%0AWHERE%0A%7B+%23+SERVICE+wikibase%3Alabel+%7B+bd%3AserviceParam+wikibase%3Alanguage+%22%5BAUTO_LANGUAGE%5D%22.+%7D%0A+++++%7B%3Fid+rdfs%3Alabel+%3FidLabel.%7D%0A++FILTER%28+LANG%28%3FidLabel%29%3D%22en%22+%29%0A++++FILTER+%28%3Fid+%21%3D+wd%3AQ84%29%0A++++FILTER+%28%3Fid+%21%3D+wd%3AQ1094110%29%0A++++++FILTER+%28%3Fid+%21%3D+wd%3AQ23154%29%0A++++++++FILTER+%28%3Fid+%21%3D+wd%3AQ6226%29%0A+++++FILTER+%28%3Fid+%21%3D+wd%3AQ193452%29%0A++FILTER+%28%3Fid+%21%3D+wd%3AQ22889%29+%0A+FILTER+%28%3Fid+%21%3D+wd%3AQ269980%29%0A+++++%7B++++%3Fid+p%3AP31+%3Fstatement0.++++++++++%3Fstatement0+%28ps%3AP31%29+wd%3AQ515.+++++++%7D%0A++++++UNION%0A++++++%7B++++%3Fid+p%3AP31+%3Fstatement1.+++++++++%3Fstatement1+%28ps%3AP31%29+wd%3AQ27104997.++++%7D%0A++++++UNION%0A++++++%7B++++%3Fid+p%3AP31+%3Fstatement2.+++++++++%3Fstatement2+%28ps%3AP31%29+wd%3AQ21503295.++++%7D%0A+++++UNION++++%7B%3Fid+p%3AP131+%3Fnewport.+%3Fnewport++%28ps%3AP131%29+wd%3AQ11294004.+%3Fid+p%3AP31+%3Fnewport2.+%3Fnewport2++%28ps%3AP31%29+wd%3AQ515.%7D++++%7B++++%3Fid+p%3AP17+%3Fstatement3.+++++++%3Fstatement3+%28ps%3AP17%29+wd%3AQ145.++++%7D%0A%7D%0A+LIMIT+300\"},{\"type\":\"ExternalData\",\"service\":\"geopoint\",\"url\":\"https://maps.wikimedia.org/geopoint?getgeojson=1&amp;query=SELECT+DISTINCT+%3Fid+%3Fplacelabel+%3Fgeo%0A%28%3Fimg+as+%3Fimg_%29%0A%28%22-number%22+AS+%3Fmarker_symbol%29+%0A%28%22%23ff0000%22+AS+%3Fmarker_color%29%0A%28concat%28%27%5B%5Bw%3A%27%2C+substr%28str%28%3Flink%29%2C31%2C400%29%2C++%27%7C%27%2C+%3Fplacelabel%2C+%27%5D%5D%27%29+as+%3Ftitle%29%0A%28concat%28%27%27%2C+%27%5B%5BFile%3A%27%2C+substr%28str%28%3Fimg_%29%2C+52%2C+400%29%2C+%27%7C200px%5D%5D%27%29+as+%3Fdescription%29%0AWHERE+%7B++++++++%3Fid+wdt%3AP625+%3Fgeo.%0A%23+%7B+SERVICE+wikibase%3Alabel+%7B+bd%3AserviceParam+wikibase%3Alanguage+%5C%22%5BAUTO_LANGUAGE%5D%5C%22+.+%7D%0A%3Fid+rdfs%3Alabel+%3Fplacelabel+.%0AFILTER+%28LANG%28%3Fplacelabel%29+%3D+%22en%22%29%0AFILTER+%28%3Fid+%21%3D+wd%3AQ84%29+%0AFILTER+%28%3Fid+%21%3D+wd%3AQ27573903%29%0AFILTER+%28%3Fid+%21%3D+wd%3AQ24341876%29%0AFILTER+%28%3Fid+%21%3D+wd%3AQ843868%29+%0A%23+FILTER+%28%3Fid+%21%3D+wd%3AQ84%29+++++%0A+++++++%3Fid+p%3AP17+%3Fstatement0.+++++++wd%3AQ145++%5Eps%3AP17++%3Fstatement0+.%0A%3Fid+p%3AP31+%3Fstatement1.++++++wd%3AQ515++%5Eps%3AP31+%3Fstatement1.%0AMINUS+%7B+++++++++%3Fid+p%3AP31+%3Fstatement2.+++++wd%3AQ19953632++%28%5Eps%3AP31%2F%28%5Ewdt%3AP279%29%29++%3Fstatement2.%7D%0AOPTIONAL++++++%7B+%3Fid+wdt%3AP18+%3Fimg+.+%7D%0A%23+OPTIONAL+++%7B+%3Fid+p%3AP31+%3Fbody+.+%3Fbody+%28ps%3AP31%2F%28wdt%3AP1376%29%29+wdt%3AQ21503295.+%7D%0AOPTIONAL+%7B%3Flink+schema%3Aabout++%3Fid++.+%3Flink+schema%3AisPartOf+%3Chttps%3A%2F%2Fen.wikipedia.org%2F%3E+.+%7D+%23%0A++++++%7D%0AORDER+BY+ASC%28%3Fplacelabel%29+%0ALIMIT+300\"},{\"type\":\"ExternalData\",\"service\":\"page\",\"url\":\"/w/api.php?format=json&amp;formatversion=2&amp;action=jsondata&amp;title=Belfast-2.map\"}],\"_bca1b6f1568102563e28ee9ccbf11e3bb3085f81\":[{\"type\":\"Feature\",\"geometry\":{\"coordinates\":[-5.35,36.14],\"type\":\"Point\"},\"properties\":{\"title\":\"Gibraltar\",\"marker-color\":\"5E74F3\"}}],\"_9cf125153ffe4c553e4ae5db8f92fe2cd1fc78bf\":[{\"type\":\"Feature\",\"geometry\":{\"coordinates\":[-64.78305555555555,32.295],\"type\":\"Point\"},\"properties\":{\"title\":\"Hamilton\",\"marker-color\":\"5E74F3\"}}],\"_a397f50b233957cecacd4fcc844651e76dbd6443\":[{\"type\":\"Feature\",\"geometry\":{\"coordinates\":[-5.7179166666666665,-15.925138888888888],\"type\":\"Point\"},\"properties\":{\"title\":\"Jamestown\",\"marker-color\":\"5E74F3\"}}],\"_1c869ee32bfad9577382e7b1de99ed8a3cdb5a55\":[{\"type\":\"Feature\",\"geometry\":{\"coordinates\":[-57.849556,-51.693861],\"type\":\"Point\"},\"properties\":{\"title\":\"Stanley\",\"marker-color\":\"5E74F3\"}}],\"_3b77237b27e12d92ac92fbe0a76f1f2a87451158\":[{\"type\":\"Feature\",\"geometry\":{\"coordinates\":[-4.4775,54.15],\"type\":\"Point\"},\"properties\":{\"title\":\"Douglas\",\"marker-color\":\"5E74F3\"}}]}}' property=\"mw:jsConfigVars\"/>\n",
            "<meta content=\"ext.kartographer.link|ext.kartographer.staticframe|ext.cite.ux-enhancements\" property=\"mw:generalModules\"/>\n",
            "<meta content=\"ext.cite.parsoid.styles|ext.cite.styles|ext.kartographer.style\" property=\"mw:moduleStyles\"/>\n",
            "<meta content=\"en\" http-equiv=\"content-language\"/>\n",
            "<meta content=\"Accept\" http-equiv=\"vary\"/>\n"
          ]
        }
      ]
    },
    {
      "cell_type": "code",
      "execution_count": 68,
      "metadata": {
        "colab": {
          "base_uri": "https://localhost:8080/"
        },
        "id": "I-iD8O2DSAly",
        "outputId": "32246621-14e0-42ea-f1c1-d463c326d7e9"
      },
      "outputs": [
        {
          "output_type": "stream",
          "name": "stdout",
          "text": [
            "List of cities in the United Kingdom\n"
          ]
        }
      ],
      "source": [
        "import requests\n",
        "from bs4 import BeautifulSoup\n",
        "\n",
        "def get_parsed_page(page_title):\n",
        "    # Construct the Wikipedia REST API URL\n",
        "    url = f\"https://en.wikipedia.org/api/rest_v1/page/html/List_of_cities_in_the_United_Kingdom\"\n",
        "\n",
        "    # Make the request to fetch the page content\n",
        "    response = requests.get(url)\n",
        "\n",
        "    # Check if the request was successful\n",
        "    if response.status_code != 200:\n",
        "        raise Exception(f\"Failed to fetch page: {response.status_code}\")\n",
        "\n",
        "    # Parse the HTML content with BeautifulSoup\n",
        "    parsed_content = BeautifulSoup(response.text, 'html.parser')\n",
        "\n",
        "    # Return the parsed content and the original response\n",
        "    return parsed_content, response\n",
        "\n",
        "# Apply the function to the specific page\n",
        "page_soup, page_response = get_parsed_page(\"List_of_cities_in_the_United_Kingdom\")\n",
        "\n",
        "# Print the content under the 'head' tag\n",
        "print(page_soup.find('head').text)\n"
      ]
    },
    {
      "cell_type": "markdown",
      "metadata": {
        "id": "waK4EDB_UI_2"
      },
      "source": [
        "__3b.__ (5 points) Locate the first object tagged `'table'` in the parsed HTML output above. Loop over its (non-header) rows to obtain the first hyperlink (`'a'` tag) from the first column of each row. Create a list called `city_links` that contains tuples of the form `(text, hyperlink)`. Print the length of the list and the first five items in `city_links`."
      ]
    },
    {
      "cell_type": "code",
      "execution_count": 69,
      "metadata": {
        "colab": {
          "base_uri": "https://localhost:8080/"
        },
        "id": "lqI3te_uSAoA",
        "outputId": "2f83d15c-1cd9-446d-878b-efc23df9dc33"
      },
      "outputs": [
        {
          "output_type": "stream",
          "name": "stdout",
          "text": [
            "Length of list: 76 \n",
            "\n"
          ]
        },
        {
          "output_type": "execute_result",
          "data": {
            "text/plain": [
              "[('London', 'https://en.wikipedia.org/London'),\n",
              " ('Westminster', 'https://en.wikipedia.org/Westminster'),\n",
              " ('Birmingham', 'https://en.wikipedia.org/Birmingham'),\n",
              " ('Leeds', 'https://en.wikipedia.org/Leeds'),\n",
              " ('Glasgow', 'https://en.wikipedia.org/Glasgow')]"
            ]
          },
          "metadata": {},
          "execution_count": 69
        }
      ],
      "source": [
        "city_links = []\n",
        "city_table = page_soup.find('table')\n",
        "\n",
        "#---Your code starts here---\n",
        "if city_table:\n",
        "    for row in city_table.find_all('tr')[1:]:\n",
        "        columns = row.find_all('td')\n",
        "        if len(columns) > 1:\n",
        "            link = columns[1].find('a')\n",
        "            if link:\n",
        "                city_name = link.text.strip()\n",
        "                city_url = link['href']\n",
        "                if city_url.startswith('/'):\n",
        "                    city_url = f\"https://en.wikipedia.org{city_url}\"\n",
        "                elif city_url.startswith('.'):\n",
        "                    city_url = f\"https://en.wikipedia.org{city_url[1:]}\"\n",
        "                city_links.append((city_name, city_url))\n",
        "#---Your code stops here---\n",
        "\n",
        "print(\"Length of list:\", len(city_links), \"\\n\")\n",
        "city_links[:5]"
      ]
    },
    {
      "cell_type": "markdown",
      "metadata": {
        "id": "hb00R4_mUPBZ"
      },
      "source": [
        "__3c.__ (5 points) Use the data stored in `city_links` to populate a data object called `city_data` of the form shown below. Here, `page_id` is the `id` used to access the API, which should correspond to the text collected for each link in `city_links`. Print the name and the first 200 characters of the text stored under the `page_id` used to identify London.\n",
        "```\n",
        "city_data = {\n",
        "    page_id: {\n",
        "        \"name\": <name of page>,\n",
        "        \"text\": <full html string for page>\n",
        "    }\n",
        "}\n",
        "```"
      ]
    },
    {
      "cell_type": "code",
      "execution_count": 75,
      "metadata": {
        "colab": {
          "base_uri": "https://localhost:8080/"
        },
        "id": "fgTynJ31SAqQ",
        "outputId": "86c62d7b-ad84-4082-91c1-5d7b596cdcd6"
      },
      "outputs": [
        {
          "output_type": "stream",
          "name": "stderr",
          "text": [
            "100%|██████████| 76/76 [00:39<00:00,  1.92it/s]"
          ]
        },
        {
          "output_type": "stream",
          "name": "stdout",
          "text": [
            "Keys in city_data: dict_keys(['./London', './Westminster', './Birmingham', './Leeds', './Glasgow', './Manchester', './Sheffield', './Bradford', './Edinburgh', './Liverpool', './Bristol', './Cardiff', './Leicester', './Coventry', './Wakefield', './Belfast', './Nottingham', './Newcastle_upon_Tyne', './Doncaster', './Milton_Keynes', './Salford', './Sunderland', './Brighton', './Wolverhampton', './Kingston_upon_Hull', './Plymouth', './Derby', './Stoke-on-Trent', './Southampton', './Swansea', './Aberdeen', './Peterborough', './Portsmouth', './York', './Colchester', './Chelmsford', './Southend-on-Sea', './Oxford', './Newport,_Wales', './Canterbury', './Preston,_Lancashire', './Dundee', './Cambridge', './St_Albans', './Lancaster,_Lancashire', './Norwich', './Chester', './Exeter', './Wrexham', './Gloucester', './Winchester', './Durham,_England', './Carlisle', './Worcester,_England', './Lincoln,_England', './Bath,_Somerset', './Derry', './Dunfermline', './Bangor,_County_Down', './Inverness', './Hereford', './Lisburn', './Stirling', './Perth,_Scotland', './Salisbury', './Lichfield', './Chichester', './Newry', './Truro', './Ely,_Cambridgeshire', './Ripon', './Armagh', './Bangor,_Gwynedd', './Wells,_Somerset', './St_Asaph', './St_Davids'])\n",
            "\n",
            "Name: London\n",
            "Text: \n",
            "LondonCapital and largest city of the United Kingdom\n",
            "This article is about the capital city of the United Kingdom. For other uses, see London (disambiguation).\n",
            "\n",
            "\n",
            "\n",
            "\n",
            "\n",
            "Capital city in EnglandLondonCapit\n"
          ]
        },
        {
          "output_type": "stream",
          "name": "stderr",
          "text": [
            "\n"
          ]
        }
      ],
      "source": [
        "from tqdm import tqdm\n",
        "import json, os\n",
        "\n",
        "#---Your code starts here---\n",
        "\n",
        "# Fetch data for each city\n",
        "def get_parsed_page(page_title):\n",
        "    url = f\"https://en.wikipedia.org/api/rest_v1/page/html/{page_title.replace(' ', '_')}\"\n",
        "    response = requests.get(url)\n",
        "    soup = BeautifulSoup(response.text, 'html.parser')\n",
        "    return soup, response\n",
        "\n",
        "# Initialize city_data\n",
        "city_data = {}\n",
        "\n",
        "# Populate city_data\n",
        "for city_name, city_url in tqdm(city_links):\n",
        "    page_title = city_url.split('/')[-1]\n",
        "    soup, response = get_parsed_page(page_title)\n",
        "    city_key = f\"./{page_title}\"\n",
        "    city_data[city_key] = {\n",
        "        \"name\": city_name,\n",
        "        \"text\": soup.text\n",
        "    }\n",
        "\n",
        "# Print results for City of London\n",
        "print(\"Keys in city_data:\", city_data.keys())\n",
        "#---Your code stops here---\n",
        "\n",
        "print(\"\\nName:\", city_data['./London'][\"name\"])\n",
        "print(\"Text:\", city_data['./London'][\"text\"][:200])"
      ]
    },
    {
      "cell_type": "markdown",
      "metadata": {
        "id": "W9KOV-cGUVAw"
      },
      "source": [
        "__3d.__ (5 points) On Wikipedia, pages are networked via hyperlinks. Thus, pages link to each page in `city_data` (through in-links) and link from each page (through out-links). To obtain a list of in-links, we can use the `endpoint` provided in the code block below. Using this endpoint, define a function called `index_inlinks` that takes a `page_id` and `endpoint` as inputs and returns the parsed HTML response for 500 pages with `namespace=0` (indicating a core article on Wikipedia). Use the `requests` module to access the API, and use `BeautifulSoup` to parse the response. (Note: to return 500 pages from a given `page_id`, additional parameters must be concatenated onto `endpoint`.) Apply `index_inlinks` to the `page_id` used to identify London, and print the first five items in the list (`li`) class of the `body` of the parsed HTML."
      ]
    },
    {
      "cell_type": "code",
      "execution_count": 78,
      "metadata": {
        "colab": {
          "base_uri": "https://localhost:8080/"
        },
        "id": "Ra3lv4eVSAsu",
        "outputId": "674bd372-79ec-4fd7-c8b4-bf632d7b3ac2"
      },
      "outputs": [
        {
          "output_type": "stream",
          "name": "stdout",
          "text": [
            "<bl ns=\"0\" pageid=\"1627\" title=\"Aberdeen\"></bl>\n",
            "<bl ns=\"0\" pageid=\"1640\" title=\"Alfred the Great\"></bl>\n",
            "<bl ns=\"0\" pageid=\"2563\" title=\"Arthur Phillip\"></bl>\n",
            "<bl ns=\"0\" pageid=\"3455\" title=\"Barbados\"></bl>\n",
            "<bl ns=\"0\" pageid=\"3875\" title=\"Benjamin Disraeli\"></bl>\n"
          ]
        }
      ],
      "source": [
        "#---Your code starts here---\n",
        "endpoint = \"https://en.wikipedia.org/w/api.php?action=query&list=backlinks&format=xml\"\n",
        "#---Your code stops here---\n",
        "\n",
        "def index_inlinks(page_id, endpoint):\n",
        "    #---Your code starts here---\n",
        "    url = f\"{endpoint}&bltitle={page_id}&bllimit=500&blnamespace=0\"\n",
        "    response = requests.get(url)\n",
        "    soup = BeautifulSoup(response.content, 'html.parser')\n",
        "    return soup\n",
        "    #---Your code stops here---\n",
        "\n",
        "inlinks_soup = index_inlinks('City_of_London', endpoint)\n",
        "first_five_inlinks = inlinks_soup.find_all('bl')[0:5]\n",
        "\n",
        "for inlink in first_five_inlinks:\n",
        "    print(inlink)"
      ]
    },
    {
      "cell_type": "markdown",
      "metadata": {
        "id": "UJrUMoOSv8C_"
      },
      "source": [
        "__3e.__ (5 points) Expand `index_inlinks` by collecting the hyperlinks within all `'li'`-tagged objects that have a `'span'`-tagged object within them but do not have a `'class'` attribute. (This restriction should help to avoid 'edit' links.) The function should return a `links` list containing tuples of the form `(show_text, URL)` in addition to the parsed HTML. Print the length of the list and its first five items."
      ]
    },
    {
      "cell_type": "code",
      "execution_count": 79,
      "metadata": {
        "colab": {
          "base_uri": "https://localhost:8080/"
        },
        "id": "47fGwopbv8M7",
        "outputId": "6fa39f90-59b5-44bd-a042-65f0e7400523"
      },
      "outputs": [
        {
          "output_type": "stream",
          "name": "stdout",
          "text": [
            "Length of list: 500\n"
          ]
        },
        {
          "output_type": "execute_result",
          "data": {
            "text/plain": [
              "[('Apollo 11', 'https://en.wikipedia.org/wiki/Apollo_11'),\n",
              " ('Ankara', 'https://en.wikipedia.org/wiki/Ankara'),\n",
              " ('Amsterdam', 'https://en.wikipedia.org/wiki/Amsterdam'),\n",
              " ('Foreign relations of Azerbaijan',\n",
              "  'https://en.wikipedia.org/wiki/Foreign_relations_of_Azerbaijan'),\n",
              " ('The Ashes', 'https://en.wikipedia.org/wiki/The_Ashes')]"
            ]
          },
          "metadata": {},
          "execution_count": 79
        }
      ],
      "source": [
        "endpoint = 'https://en.wikipedia.org/w/index.php?title=Special:WhatLinksHere'\n",
        "\n",
        "def index_inlinks(page_id, endpoint):\n",
        "\n",
        "    links = []\n",
        "    params = '&limit=500&namespace=0&target='\n",
        "    inlinks_URL = endpoint + params + page_id\n",
        "\n",
        "    inlinks_response = requests.get(inlinks_URL)\n",
        "    inlinks_soup = BeautifulSoup(inlinks_response.text, 'html.parser')\n",
        "\n",
        "    #---Your code starts here---\n",
        "    for li in inlinks_soup.find_all('li'):\n",
        "        if li.find('span') and not li.has_attr('class'):\n",
        "            link = li.find('a')\n",
        "            if link and 'href' in link.attrs:\n",
        "                show_text = link.get_text().strip()\n",
        "                url = f\"https://en.wikipedia.org{link['href']}\"\n",
        "                links.append((show_text, url))\n",
        "    #---Your code stops here---\n",
        "\n",
        "    return links, inlinks_soup\n",
        "    #---Your code stops here---\n",
        "\n",
        "links, inlinks_soup = index_inlinks('London', endpoint)\n",
        "\n",
        "print(\"Length of list:\", len(links))\n",
        "links[:5]"
      ]
    },
    {
      "cell_type": "markdown",
      "metadata": {
        "id": "8bS6E7LWUhTg"
      },
      "source": [
        "__3f.__ (5 points) It might take multiple calls to collect all in-links from a page, and the number of in-links isn't known from the start. As a first pass, define a function called `collect_first_inlinks` that takes a data object such as `city_links` and collects the first 500 (or fewer) in-links for each page in the data object as a dictionary of the form shown below. Then, apply `collect_first_inlinks` to `city_data` and return the number of city pages with more than 500 in-links and the name of the city page with the fewest in-links.\n",
        "```\n",
        "links_index[page_id] = {'name': page_name, 'links': links,\n",
        "                                'next_page': next_page_URL}\n",
        "```"
      ]
    },
    {
      "cell_type": "code",
      "execution_count": 80,
      "metadata": {
        "colab": {
          "base_uri": "https://localhost:8080/"
        },
        "id": "Zf7hu9qcSAxD",
        "outputId": "fb80eeaa-4be8-4db1-d699-5f30657f96b6"
      },
      "outputs": [
        {
          "output_type": "stream",
          "name": "stderr",
          "text": [
            "<ipython-input-80-6968dac7b3e8>:10: DeprecationWarning: The 'text' argument to find()-type methods is deprecated. Use 'string' instead.\n",
            "  next_page = inlinks_soup.find('a', text='next 500')\n"
          ]
        },
        {
          "output_type": "stream",
          "name": "stdout",
          "text": [
            "Number of city pages with more than 500 in-links: 60\n",
            "City with the fewest in-links: London with 500 in-links\n"
          ]
        }
      ],
      "source": [
        "import numpy as np\n",
        "\n",
        "def collect_first_inlinks(city_links):\n",
        "    endpoint = 'https://en.wikipedia.org/w/index.php?title=Special:WhatLinksHere'\n",
        "    inlinks_index = {}\n",
        "\n",
        "    for city_name, city_url in city_links:\n",
        "        page_id = city_url.split('/')[-1]\n",
        "        links, inlinks_soup = index_inlinks(page_id, endpoint)\n",
        "        next_page = inlinks_soup.find('a', text='next 500')\n",
        "        next_page_URL = f\"https://en.wikipedia.org{next_page['href']}\" if next_page else None\n",
        "\n",
        "        inlinks_index[page_id] = {'name': city_name, 'links': links, 'next_page': next_page_URL}\n",
        "\n",
        "    return inlinks_index\n",
        "  #---Your code stops here---\n",
        "\n",
        "inlinks_index = collect_first_inlinks(city_links)\n",
        "\n",
        "#---Your code starts here---\n",
        "more_than_500 = sum(1 for v in inlinks_index.values() if len(v['links']) > 500)\n",
        "city_with_fewest_inlinks = min(inlinks_index.items(), key=lambda x: len(x[1]['links']))\n",
        "\n",
        "print(\"Number of city pages with more than 500 in-links:\", more_than_500)\n",
        "print(\"City with the fewest in-links:\", city_with_fewest_inlinks[1]['name'], \"with\", len(city_with_fewest_inlinks[1]['links']), \"in-links\")\n",
        "#---Your code stops here---"
      ]
    }
  ],
  "metadata": {
    "colab": {
      "collapsed_sections": [
        "GcKnZ7AoGv3e",
        "UtltzNF1R5eG",
        "b_iMIk-IR9gy"
      ],
      "provenance": []
    },
    "kernelspec": {
      "display_name": "Python 3",
      "language": "python",
      "name": "python3"
    },
    "language_info": {
      "codemirror_mode": {
        "name": "ipython",
        "version": 3
      },
      "file_extension": ".py",
      "mimetype": "text/x-python",
      "name": "python",
      "nbconvert_exporter": "python",
      "pygments_lexer": "ipython3",
      "version": "3.8.6"
    }
  },
  "nbformat": 4,
  "nbformat_minor": 0
}